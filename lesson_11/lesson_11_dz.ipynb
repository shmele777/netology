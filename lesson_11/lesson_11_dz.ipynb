{
 "metadata": {
  "language_info": {
   "codemirror_mode": {
    "name": "ipython",
    "version": 3
   },
   "file_extension": ".py",
   "mimetype": "text/x-python",
   "name": "python",
   "nbconvert_exporter": "python",
   "pygments_lexer": "ipython3",
   "version": "3.8.5-final"
  },
  "orig_nbformat": 2,
  "kernelspec": {
   "name": "python3",
   "display_name": "Python 3"
  }
 },
 "nbformat": 4,
 "nbformat_minor": 2,
 "cells": [
  {
   "source": [
    "# Задание 1\n",
    "import pandas as pd\n",
    "\n",
    "def movie_class(param):\n",
    "    res = param.rating.mean()\n",
    "    if res <= 2.0:\n",
    "        return 'низкий'\n",
    "    elif res >=4.5:\n",
    "        return 'высокий'\n",
    "    else:\n",
    "        return 'средний'\n",
    "\n",
    "\n",
    "rating_df = pd.read_csv('ml-latest-small/ratings.csv')[['movieId', 'rating']]\n",
    "movie_df = pd.read_csv('ml-latest-small/movies.csv')[['movieId', 'title']]\n",
    "\n",
    "result_df = rating_df.groupby('movieId').apply(movie_class).reset_index()\n",
    "result_df.columns = ['movieId', 'class']\n",
    "result_df = movie_df.merge(result_df, on='movieId', how='left')\n",
    "result_df.head()"
   ],
   "cell_type": "code",
   "metadata": {},
   "execution_count": 87,
   "outputs": [
    {
     "output_type": "execute_result",
     "data": {
      "text/plain": [
       "   movieId                               title    class\n",
       "0        1                    Toy Story (1995)  средний\n",
       "1        2                      Jumanji (1995)  средний\n",
       "2        3             Grumpier Old Men (1995)  средний\n",
       "3        4            Waiting to Exhale (1995)  средний\n",
       "4        5  Father of the Bride Part II (1995)  средний"
      ],
      "text/html": "<div>\n<style scoped>\n    .dataframe tbody tr th:only-of-type {\n        vertical-align: middle;\n    }\n\n    .dataframe tbody tr th {\n        vertical-align: top;\n    }\n\n    .dataframe thead th {\n        text-align: right;\n    }\n</style>\n<table border=\"1\" class=\"dataframe\">\n  <thead>\n    <tr style=\"text-align: right;\">\n      <th></th>\n      <th>movieId</th>\n      <th>title</th>\n      <th>class</th>\n    </tr>\n  </thead>\n  <tbody>\n    <tr>\n      <th>0</th>\n      <td>1</td>\n      <td>Toy Story (1995)</td>\n      <td>средний</td>\n    </tr>\n    <tr>\n      <th>1</th>\n      <td>2</td>\n      <td>Jumanji (1995)</td>\n      <td>средний</td>\n    </tr>\n    <tr>\n      <th>2</th>\n      <td>3</td>\n      <td>Grumpier Old Men (1995)</td>\n      <td>средний</td>\n    </tr>\n    <tr>\n      <th>3</th>\n      <td>4</td>\n      <td>Waiting to Exhale (1995)</td>\n      <td>средний</td>\n    </tr>\n    <tr>\n      <th>4</th>\n      <td>5</td>\n      <td>Father of the Bride Part II (1995)</td>\n      <td>средний</td>\n    </tr>\n  </tbody>\n</table>\n</div>"
     },
     "metadata": {},
     "execution_count": 87
    }
   ]
  },
  {
   "cell_type": "code",
   "execution_count": 84,
   "metadata": {},
   "outputs": [
    {
     "output_type": "execute_result",
     "data": {
      "text/plain": [
       "                       keyword   shows          region\n",
       "127               авито москва  979292           Центр\n",
       "370   авито ру санкт петербург  425134    Северо-Запад\n",
       "849            авито ярославль  209581           Центр\n",
       "1063       фарпост владивосток  176951  Дальний Восток\n",
       "1236      банк санкт петербург  174375    Северо-Запад"
      ],
      "text/html": "<div>\n<style scoped>\n    .dataframe tbody tr th:only-of-type {\n        vertical-align: middle;\n    }\n\n    .dataframe tbody tr th {\n        vertical-align: top;\n    }\n\n    .dataframe thead th {\n        text-align: right;\n    }\n</style>\n<table border=\"1\" class=\"dataframe\">\n  <thead>\n    <tr style=\"text-align: right;\">\n      <th></th>\n      <th>keyword</th>\n      <th>shows</th>\n      <th>region</th>\n    </tr>\n  </thead>\n  <tbody>\n    <tr>\n      <th>127</th>\n      <td>авито москва</td>\n      <td>979292</td>\n      <td>Центр</td>\n    </tr>\n    <tr>\n      <th>370</th>\n      <td>авито ру санкт петербург</td>\n      <td>425134</td>\n      <td>Северо-Запад</td>\n    </tr>\n    <tr>\n      <th>849</th>\n      <td>авито ярославль</td>\n      <td>209581</td>\n      <td>Центр</td>\n    </tr>\n    <tr>\n      <th>1063</th>\n      <td>фарпост владивосток</td>\n      <td>176951</td>\n      <td>Дальний Восток</td>\n    </tr>\n    <tr>\n      <th>1236</th>\n      <td>банк санкт петербург</td>\n      <td>174375</td>\n      <td>Северо-Запад</td>\n    </tr>\n  </tbody>\n</table>\n</div>"
     },
     "metadata": {},
     "execution_count": 84
    }
   ],
   "source": [
    "# Задание 2\n",
    "geo_data = {\n",
    "    'Центр': ['москва', 'тула', 'ярославль'],\n",
    "    'Северо-Запад': ['петербург', 'псков', 'мурманск'],\n",
    "    'Дальний Восток': ['владивосток', 'сахалин', 'хабаровск']\n",
    "}\n",
    "\n",
    "def add_region(param):\n",
    "    \"\"\"Поиск городов\"\"\"\n",
    "\n",
    "    words = param.split(' ')\n",
    "    for region in geo_data:\n",
    "        for city in geo_data[region]:\n",
    "            if city in words:\n",
    "                return region\n",
    "    return 'undefined'\n",
    "\n",
    "\n",
    "keyword_df = pd.read_csv('ml-latest-small/keywords.csv')\n",
    "keyword_df['region'] = keyword_df.keyword.apply(add_region)\n",
    "\n",
    "keyword_df[keyword_df.region != 'undefined'].head()"
   ]
  },
  {
   "cell_type": "code",
   "execution_count": 93,
   "metadata": {},
   "outputs": [
    {
     "output_type": "execute_result",
     "data": {
      "text/plain": [
       "    year    rating\n",
       "7   1957  4.014241\n",
       "22  1972  4.011136\n",
       "2   1952  4.000000\n",
       "4   1954  3.994220\n",
       "1   1951  3.983539"
      ],
      "text/html": "<div>\n<style scoped>\n    .dataframe tbody tr th:only-of-type {\n        vertical-align: middle;\n    }\n\n    .dataframe tbody tr th {\n        vertical-align: top;\n    }\n\n    .dataframe thead th {\n        text-align: right;\n    }\n</style>\n<table border=\"1\" class=\"dataframe\">\n  <thead>\n    <tr style=\"text-align: right;\">\n      <th></th>\n      <th>year</th>\n      <th>rating</th>\n    </tr>\n  </thead>\n  <tbody>\n    <tr>\n      <th>7</th>\n      <td>1957</td>\n      <td>4.014241</td>\n    </tr>\n    <tr>\n      <th>22</th>\n      <td>1972</td>\n      <td>4.011136</td>\n    </tr>\n    <tr>\n      <th>2</th>\n      <td>1952</td>\n      <td>4.000000</td>\n    </tr>\n    <tr>\n      <th>4</th>\n      <td>1954</td>\n      <td>3.994220</td>\n    </tr>\n    <tr>\n      <th>1</th>\n      <td>1951</td>\n      <td>3.983539</td>\n    </tr>\n  </tbody>\n</table>\n</div>"
     },
     "metadata": {},
     "execution_count": 93
    }
   ],
   "source": [
    "# Задание 3\n",
    "import re\n",
    "\n",
    "rating_df = pd.read_csv('ml-latest-small/ratings.csv')[['movieId', 'rating']]\n",
    "movie_df = pd.read_csv('ml-latest-small/movies.csv')[['movieId', 'title']]\n",
    "\n",
    "def production_year(param):\n",
    "    result = re.findall(r'\\((\\d+)\\)', param)\n",
    "    if result:\n",
    "        return result[0]\n",
    "    else:\n",
    "        return 1900\n",
    "\n",
    "\n",
    "years = {x: 0 for x in range(1950, 2011)}\n",
    "\n",
    "movie_df['year'] = movie_df.title.apply(production_year)\n",
    "rating_df = rating_df.merge(movie_df, on='movieId', how='left')\n",
    "for y in years:\n",
    "    df = rating_df[rating_df['year'] == str(y)]\n",
    "    years[y] = df.rating.mean()\n",
    "\n",
    "result_df = pd.DataFrame.from_dict(years, orient='index', columns=['reting']).reset_index()\n",
    "result_df = result_df.sort_values(by=['reting'], ascending=[False])\n",
    "result_df.columns=['year', 'rating']\n",
    "result_df.head()\n"
   ]
  },
  {
   "cell_type": "code",
   "execution_count": null,
   "metadata": {},
   "outputs": [],
   "source": []
  }
 ]
}