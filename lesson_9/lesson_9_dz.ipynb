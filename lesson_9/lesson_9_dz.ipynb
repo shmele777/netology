{
 "metadata": {
  "language_info": {
   "codemirror_mode": {
    "name": "ipython",
    "version": 3
   },
   "file_extension": ".py",
   "mimetype": "text/x-python",
   "name": "python",
   "nbconvert_exporter": "python",
   "pygments_lexer": "ipython3",
   "version": "3.8.5-final"
  },
  "orig_nbformat": 2,
  "kernelspec": {
   "name": "python3",
   "display_name": "Python 3"
  }
 },
 "nbformat": 4,
 "nbformat_minor": 2,
 "cells": [
  {
   "cell_type": "code",
   "execution_count": 3,
   "metadata": {},
   "outputs": [
    {
     "output_type": "execute_result",
     "data": {
      "text/plain": [
       "array([9, 8, 7, 6, 5, 4, 3, 2, 1, 0])"
      ]
     },
     "metadata": {},
     "execution_count": 3
    }
   ],
   "source": [
    "# Задание 1\n",
    "import numpy as np\n",
    "\n",
    "n = 10\n",
    "diag_1 = np.arange(n-1, -1, -1)\n",
    "\n",
    "diag_1"
   ]
  },
  {
   "cell_type": "code",
   "execution_count": 5,
   "metadata": {},
   "outputs": [
    {
     "output_type": "stream",
     "name": "stdout",
     "text": [
      "[[9 0 0 0 0 0 0 0 0 0]\n [0 8 0 0 0 0 0 0 0 0]\n [0 0 7 0 0 0 0 0 0 0]\n [0 0 0 6 0 0 0 0 0 0]\n [0 0 0 0 5 0 0 0 0 0]\n [0 0 0 0 0 4 0 0 0 0]\n [0 0 0 0 0 0 3 0 0 0]\n [0 0 0 0 0 0 0 2 0 0]\n [0 0 0 0 0 0 0 0 1 0]\n [0 0 0 0 0 0 0 0 0 0]]\ndiagonal sum:  45\n"
     ]
    }
   ],
   "source": [
    "# Задание 2\n",
    "my_array = np.diag(diag_1)\n",
    "my_sum = sum(diag_1)\n",
    "\n",
    "print(my_array)\n",
    "print(\"diagonal sum: \", my_sum)"
   ]
  },
  {
   "cell_type": "code",
   "execution_count": 6,
   "metadata": {},
   "outputs": [
    {
     "output_type": "stream",
     "name": "stdout",
     "text": [
      "x, y, z = [ 0.46666667  3.84444444 -5.55555556]\n"
     ]
    }
   ],
   "source": [
    "# Задание 3\n",
    "\n",
    "# 4x + 2y + z = 4\n",
    "# x + 3y = 12\n",
    "# 5y + 4z = -3\n",
    "\n",
    "a = np.array([[4, 2, 1], [1, 3, 0], [0, 5, 4]])\n",
    "b = np.array([4, 12, -3])\n",
    "result = np.linalg.solve(a, b)\n",
    "print(\"x, y, z =\", result)\n",
    "\n",
    "\n"
   ]
  },
  {
   "cell_type": "code",
   "execution_count": 7,
   "metadata": {},
   "outputs": [
    {
     "output_type": "stream",
     "name": "stdout",
     "text": [
      "id пользователя: 8, между которым минимальный угол: 18.434948822922017 градусов\n"
     ]
    }
   ],
   "source": [
    "# Задание 4\n",
    "users_stats = np.array(\n",
    "    [\n",
    "        [2, 1, 0, 0, 0, 0],\n",
    "        [1, 1, 2, 1, 0, 0],\n",
    "        [2, 0, 1, 0, 0, 0],\n",
    "        [1, 1, 2, 1, 0, 1],\n",
    "        [0, 0, 1, 2, 0, 0],\n",
    "        [0, 0, 0, 0, 0, 5],\n",
    "        [1, 0, 0, 0, 0, 0],\n",
    "        [0, 1, 1, 0, 0, 0],\n",
    "        [0, 0, 0, 1, 1, 3],\n",
    "        [1, 0, 0, 2, 1, 4]\n",
    "    ], \n",
    "    np.int32\n",
    ")\n",
    "\n",
    "next_user_stats = np.array([0, 1, 2, 0, 0, 0])\n",
    "\n",
    "def cosine( a, b ):\n",
    "    \"\"\"\n",
    "    Подсчет косинуса угла между векторами a, b по их координатам\n",
    "    \"\"\"\n",
    "    \n",
    "    # длины векторов\n",
    "    aLength = np.linalg.norm( a )\n",
    "    bLength = np.linalg.norm( b )\n",
    "    \n",
    "    return np.dot( a, b ) / ( aLength * bLength )\n",
    "\n",
    "angls = {}\n",
    "for id, user in enumerate(users_stats):\n",
    "    angls[id+1] = np.arccos(cosine(user, next_user_stats)) * 360 / 2 / np.pi\n",
    "id_min = min(angls, key=lambda unit: angls[unit])\n",
    "\n",
    "print(f'id пользователя: {id_min}, между которым минимальный угол: {angls[id_min]} градусов')"
   ]
  },
  {
   "cell_type": "code",
   "execution_count": null,
   "metadata": {},
   "outputs": [],
   "source": []
  }
 ]
}