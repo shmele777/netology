{
 "metadata": {
  "language_info": {
   "codemirror_mode": {
    "name": "ipython",
    "version": 3
   },
   "file_extension": ".py",
   "mimetype": "text/x-python",
   "name": "python",
   "nbconvert_exporter": "python",
   "pygments_lexer": "ipython3",
   "version": "3.8.5-final"
  },
  "orig_nbformat": 2,
  "kernelspec": {
   "name": "python3",
   "display_name": "Python 3"
  }
 },
 "nbformat": 4,
 "nbformat_minor": 2,
 "cells": [
  {
   "cell_type": "code",
   "execution_count": 2,
   "metadata": {},
   "outputs": [
    {
     "output_type": "execute_result",
     "data": {
      "text/plain": [
       "         date                                              title  \\\n",
       "0  2020-12-09  Umka и трактор: первый опыт практического прим...   \n",
       "0  2020-12-09  MikroTik Скрипт: Уведомление о успешном входе ...   \n",
       "\n",
       "                                url  \\\n",
       "0  https://habr.com/ru/post/532018/   \n",
       "0  https://habr.com/ru/post/532086/   \n",
       "\n",
       "                                                text  \n",
       "0  С весны нынешнего года я разрабатываю статичес...  \n",
       "0  Статья будет больше интересна специалистам исп...  "
      ],
      "text/html": "<div>\n<style scoped>\n    .dataframe tbody tr th:only-of-type {\n        vertical-align: middle;\n    }\n\n    .dataframe tbody tr th {\n        vertical-align: top;\n    }\n\n    .dataframe thead th {\n        text-align: right;\n    }\n</style>\n<table border=\"1\" class=\"dataframe\">\n  <thead>\n    <tr style=\"text-align: right;\">\n      <th></th>\n      <th>date</th>\n      <th>title</th>\n      <th>url</th>\n      <th>text</th>\n    </tr>\n  </thead>\n  <tbody>\n    <tr>\n      <th>0</th>\n      <td>2020-12-09</td>\n      <td>Umka и трактор: первый опыт практического прим...</td>\n      <td>https://habr.com/ru/post/532018/</td>\n      <td>С весны нынешнего года я разрабатываю статичес...</td>\n    </tr>\n    <tr>\n      <th>0</th>\n      <td>2020-12-09</td>\n      <td>MikroTik Скрипт: Уведомление о успешном входе ...</td>\n      <td>https://habr.com/ru/post/532086/</td>\n      <td>Статья будет больше интересна специалистам исп...</td>\n    </tr>\n  </tbody>\n</table>\n</div>"
     },
     "metadata": {},
     "execution_count": 2
    }
   ],
   "source": [
    "# Задание 1\n",
    "import requests\n",
    "from bs4 import BeautifulSoup\n",
    "import pandas as pd\n",
    "\n",
    "\n",
    "url = 'https://habr.com/ru/all/'\n",
    "\n",
    "KEYWORDS = ['python', 'парсинг', 'frida', 'otus', 'angular', 'dart', 'линус']\n",
    "\n",
    "df = pd.DataFrame()\n",
    "\n",
    "def search_words(words: str) -> bool:\n",
    "    words = words.lower()\n",
    "    if any([desired in words for desired in KEYWORDS]):\n",
    "        return True\n",
    "    return False\n",
    "\n",
    "\n",
    "def post_text(url_post: str) -> str:\n",
    "    resp = requests.get(url_post)\n",
    "    if resp.status_code == 200:\n",
    "        soup = BeautifulSoup(resp.text, 'html.parser')\n",
    "        return soup.find('div', class_='post__text').text, soup.find('span', class_='post__time').get('data-time_published')\n",
    "    return\n",
    "\n",
    "\n",
    "resp = requests.get(url)\n",
    "if resp.status_code == 200:\n",
    "    soup = BeautifulSoup(resp.text, 'html.parser')\n",
    "    posts = soup.find_all('article', class_='post')\n",
    "\n",
    "    for post in posts:\n",
    "        search_id = False\n",
    "        post_id = post.parent.attrs.get('id')\n",
    "    # если идентификатор не найден, это что-то странное, пропускаем\n",
    "        if not post_id:\n",
    "            continue\n",
    "        post_id = int(post_id.split('_')[-1])\n",
    "\n",
    "        # ищем в заголовке\n",
    "        titles = post.find_all('a', class_='post__title_link')\n",
    "        for title in titles:\n",
    "            if search_words(title.text):\n",
    "                print(post_id, 'title')\n",
    "                search_id = True\n",
    "                break\n",
    "\n",
    "        # ищем в хабах\n",
    "        if not search_id:\n",
    "            hubs = post.find_all('ul', class_='post__hubs')\n",
    "            hub_lower = ''\n",
    "            for hub in hubs:\n",
    "                hub_lower += hub.text   \n",
    "            search_id = search_words(hub_lower)\n",
    "\n",
    "                \n",
    "        # ищем в тексте\n",
    "        if not search_id:\n",
    "            texts = post.find_all('div', class_='post__text')\n",
    "            for text in texts:\n",
    "                if search_words(text.text):\n",
    "                    search_id = True\n",
    "                    break\n",
    "\n",
    "        # ищем в статье\n",
    "        if not search_id:\n",
    "            title_element = post.find('a', class_='post__title_link')\n",
    "            url_post = title_element.attrs.get('href')\n",
    "            art_text, _ = post_text(url_post)    \n",
    "            search_id = search_words(art_text)\n",
    "\n",
    "        if search_id:\n",
    "            title = post.find('a', class_='post__title_link')\n",
    "            url_post = title.attrs.get('href')\n",
    "            text, date = post_text(url_post)\n",
    "            row = {'date': pd.to_datetime(date).date(), 'title': title.text, 'url': url_post, 'text': text}\n",
    "            df = pd.concat([df, pd.DataFrame([row])])\n",
    "\n",
    "df"
   ]
  },
  {
   "cell_type": "code",
   "execution_count": null,
   "metadata": {},
   "outputs": [],
   "source": [
    "# Задание 2"
   ]
  }
 ]
}