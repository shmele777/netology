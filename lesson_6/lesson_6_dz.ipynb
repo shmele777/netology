{
 "metadata": {
  "language_info": {
   "codemirror_mode": {
    "name": "ipython",
    "version": 3
   },
   "file_extension": ".py",
   "mimetype": "text/x-python",
   "name": "python",
   "nbconvert_exporter": "python",
   "pygments_lexer": "ipython3",
   "version": "3.8.5-final"
  },
  "orig_nbformat": 2,
  "kernelspec": {
   "name": "python3",
   "display_name": "Python 3"
  }
 },
 "nbformat": 4,
 "nbformat_minor": 2,
 "cells": [
  {
   "cell_type": "code",
   "execution_count": 2,
   "metadata": {},
   "outputs": [
    {
     "output_type": "stream",
     "name": "stdout",
     "text": [
      "Moscow Times str(Wednesday, October 2, 2002) - datetime(2002-10-02 00:00:00)\nGuardian str(Friday, 11.10.13) - datetime(2013-10-11 00:00:00)\nDaily News str(Thursday, 18 August 1977) - datetime(1977-08-18 00:00:00)\n"
     ]
    }
   ],
   "source": [
    "# Задание 1\n",
    "from datetime import datetime\n",
    "\n",
    "def str_to_datetime(date_str, name_newspaper):\n",
    "    \"\"\"\n",
    "    Переводит дату из string в datetime. Необходимо указать название газеты\n",
    "\n",
    "    Args:\n",
    "        date_str (String): дата\n",
    "        name_newspaper (String): название газеты (Moscow Times, Guardian, Daily News)\n",
    "    \n",
    "    Return (datetime): дата \n",
    "    \"\"\"\n",
    "    \n",
    "    newspaper = {\n",
    "        'Moscow Times': '%A, %B %d, %Y',\n",
    "        'Guardian': '%A, %d.%m.%y',\n",
    "        'Daily News': '%A, %d %B %Y'\n",
    "    }\n",
    "    try:\n",
    "        return datetime.strptime(date_str, newspaper[name_newspaper])\n",
    "    except ValueError:\n",
    "        print('не верная дата')\n",
    "    except KeyError:\n",
    "        print('нет такой газеты')\n",
    "\n",
    "test_paper = {\n",
    "    'Moscow Times': 'Wednesday, October 2, 2002',\n",
    "    'Guardian': 'Friday, 11.10.13',\n",
    "    'Daily News': 'Thursday, 18 August 1977'\n",
    "}\n",
    "\n",
    "for p in test_paper:\n",
    "    print(f'{p} str({test_paper[p]}) - datetime({str_to_datetime(test_paper[p], p)})')"
   ]
  },
  {
   "cell_type": "code",
   "execution_count": null,
   "metadata": {},
   "outputs": [],
   "source": []
  }
 ]
}