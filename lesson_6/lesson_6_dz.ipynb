{
 "metadata": {
  "language_info": {
   "codemirror_mode": {
    "name": "ipython",
    "version": 3
   },
   "file_extension": ".py",
   "mimetype": "text/x-python",
   "name": "python",
   "nbconvert_exporter": "python",
   "pygments_lexer": "ipython3",
   "version": "3.8.5-final"
  },
  "orig_nbformat": 2,
  "kernelspec": {
   "name": "python3",
   "display_name": "Python 3"
  }
 },
 "nbformat": 4,
 "nbformat_minor": 2,
 "cells": [
  {
   "cell_type": "code",
   "execution_count": 2,
   "metadata": {},
   "outputs": [
    {
     "output_type": "stream",
     "name": "stdout",
     "text": [
      "Moscow Times str(Wednesday, October 2, 2002) - datetime(2002-10-02 00:00:00)\nGuardian str(Friday, 11.10.13) - datetime(2013-10-11 00:00:00)\nDaily News str(Thursday, 18 August 1977) - datetime(1977-08-18 00:00:00)\n"
     ]
    }
   ],
   "source": [
    "# Задание 1\n",
    "from datetime import datetime\n",
    "\n",
    "def str_to_datetime(date_str, name_newspaper):\n",
    "    \"\"\"\n",
    "    Переводит дату из string в datetime. Необходимо указать название газеты\n",
    "\n",
    "    Args:\n",
    "        date_str (String): дата\n",
    "        name_newspaper (String): название газеты (Moscow Times, Guardian, Daily News)\n",
    "    \n",
    "    Return (datetime): дата \n",
    "    \"\"\"\n",
    "    \n",
    "    newspaper = {\n",
    "        'Moscow Times': '%A, %B %d, %Y',\n",
    "        'Guardian': '%A, %d.%m.%y',\n",
    "        'Daily News': '%A, %d %B %Y'\n",
    "    }\n",
    "    try:\n",
    "        return datetime.strptime(date_str, newspaper[name_newspaper])\n",
    "    except ValueError:\n",
    "        print('не верная дата')\n",
    "    except KeyError:\n",
    "        print('нет такой газеты')\n",
    "\n",
    "test_paper = {\n",
    "    'Moscow Times': 'Wednesday, October 2, 2002',\n",
    "    'Guardian': 'Friday, 11.10.13',\n",
    "    'Daily News': 'Thursday, 18 August 1977'\n",
    "}\n",
    "\n",
    "for p in test_paper:\n",
    "    print(f'{p} str({test_paper[p]}) - datetime({str_to_datetime(test_paper[p], p)})')"
   ]
  },
  {
   "cell_type": "code",
   "execution_count": 12,
   "metadata": {},
   "outputs": [
    {
     "output_type": "stream",
     "name": "stdout",
     "text": [
      "[True, False, False]\n"
     ]
    }
   ],
   "source": [
    "# Задание 2\n",
    "from datetime import datetime\n",
    "\n",
    "stream = ['2018-04-02', '2018-02-29', '2018-19-02']\n",
    "\n",
    "\n",
    "def date_test(dt_str):\n",
    "    \"\"\"\n",
    "    Проыеряет строковую дату на корректность формату YYYY-MM-DD.\n",
    "\n",
    "    Args:\n",
    "        dt_str (string): строковая дата.\n",
    "    \n",
    "    Returns (bool): True - дата корректна, False - дата не корректна\n",
    "    \"\"\"\n",
    "    try:\n",
    "        datetime.strptime(dt_str, '%Y-%m-%d')\n",
    "        return True\n",
    "    except ValueError:\n",
    "        return False\n",
    "\n",
    "\n",
    "print([date_test(i) for i in stream])"
   ]
  },
  {
   "cell_type": "code",
   "execution_count": 8,
   "metadata": {},
   "outputs": [
    {
     "output_type": "stream",
     "name": "stdout",
     "text": [
      "['2020-01-01', '2020-01-02', '2020-01-03', '2020-01-04', '2020-01-05']\n"
     ]
    }
   ],
   "source": [
    "# Задание 3\n",
    "from datetime import datetime, timedelta\n",
    "\n",
    "def date_range(start_date, end_date):\n",
    "    \"\"\"\n",
    "    Взвращает список дат за период от start_date до end_date.\n",
    "    Даты должны вводиться в формате YYYY-MM-DD.\n",
    "    \n",
    "    Args:\n",
    "        start_date (string): начальная дата\n",
    "        end_date (string): конечная дата\n",
    "\n",
    "    Returns (list): список дат \n",
    "    \"\"\"\n",
    "\n",
    "    try:\n",
    "        current_date_dt = datetime.strptime(start_date, '%Y-%m-%d')\n",
    "        end_date_dt = datetime.strptime(end_date, '%Y-%m-%d')\n",
    "        list_dt = []\n",
    "        while current_date_dt <= end_date_dt:\n",
    "            list_dt.append(current_date_dt.strftime('%Y-%m-%d'))\n",
    "            current_date_dt += timedelta(days=1) \n",
    "        return list_dt\n",
    "\n",
    "    except ValueError:\n",
    "        return []\n",
    "\n",
    "\n",
    "if __name__ == \"__main__\":\n",
    "    start_date = input('Введите дату начала (YYYY-MM-DD): ')\n",
    "    end_date = input('Введите дату конца (YYYY-MM-DD): ')\n",
    "    print(date_range(start_date, end_date))"
   ]
  },
  {
   "cell_type": "code",
   "execution_count": 13,
   "metadata": {},
   "outputs": [
    {
     "output_type": "stream",
     "name": "stdout",
     "text": [
      "A101\n"
     ]
    },
    {
     "output_type": "error",
     "ename": "IndexError",
     "evalue": "list index out of range",
     "traceback": [
      "\u001b[0;31m---------------------------------------------------------------------------\u001b[0m",
      "\u001b[0;31mIndexError\u001b[0m                                Traceback (most recent call last)",
      "\u001b[0;32m<ipython-input-13-ca1af0fe2a90>\u001b[0m in \u001b[0;36m<module>\u001b[0;34m\u001b[0m\n\u001b[1;32m     14\u001b[0m \u001b[0;34m\u001b[0m\u001b[0m\n\u001b[1;32m     15\u001b[0m \u001b[0mprint\u001b[0m\u001b[0;34m(\u001b[0m\u001b[0mdelete_and_return_last_user\u001b[0m\u001b[0;34m(\u001b[0m\u001b[0;36m1\u001b[0m\u001b[0;34m)\u001b[0m\u001b[0;34m)\u001b[0m\u001b[0;34m\u001b[0m\u001b[0;34m\u001b[0m\u001b[0m\n\u001b[0;32m---> 16\u001b[0;31m \u001b[0mprint\u001b[0m\u001b[0;34m(\u001b[0m\u001b[0mdelete_and_return_last_user\u001b[0m\u001b[0;34m(\u001b[0m\u001b[0;36m1\u001b[0m\u001b[0;34m)\u001b[0m\u001b[0;34m)\u001b[0m\u001b[0;34m\u001b[0m\u001b[0;34m\u001b[0m\u001b[0m\n\u001b[0m",
      "\u001b[0;32m<ipython-input-13-ca1af0fe2a90>\u001b[0m in \u001b[0;36mdelete_and_return_last_user\u001b[0;34m(region, default_list)\u001b[0m\n\u001b[1;32m     11\u001b[0m     \u001b[0mdefault_list\u001b[0m\u001b[0;34m.\u001b[0m\u001b[0mremove\u001b[0m\u001b[0;34m(\u001b[0m\u001b[0melement_to_delete\u001b[0m\u001b[0;34m)\u001b[0m\u001b[0;34m\u001b[0m\u001b[0;34m\u001b[0m\u001b[0m\n\u001b[1;32m     12\u001b[0m \u001b[0;34m\u001b[0m\u001b[0m\n\u001b[0;32m---> 13\u001b[0;31m     \u001b[0;32mreturn\u001b[0m \u001b[0mdefault_list\u001b[0m\u001b[0;34m[\u001b[0m\u001b[0mDEFAULT_USER_COUNT\u001b[0m\u001b[0;34m-\u001b[0m\u001b[0;36m2\u001b[0m\u001b[0;34m]\u001b[0m\u001b[0;34m\u001b[0m\u001b[0;34m\u001b[0m\u001b[0m\n\u001b[0m\u001b[1;32m     14\u001b[0m \u001b[0;34m\u001b[0m\u001b[0m\n\u001b[1;32m     15\u001b[0m \u001b[0mprint\u001b[0m\u001b[0;34m(\u001b[0m\u001b[0mdelete_and_return_last_user\u001b[0m\u001b[0;34m(\u001b[0m\u001b[0;36m1\u001b[0m\u001b[0;34m)\u001b[0m\u001b[0;34m)\u001b[0m\u001b[0;34m\u001b[0m\u001b[0;34m\u001b[0m\u001b[0m\n",
      "\u001b[0;31mIndexError\u001b[0m: list index out of range"
     ]
    }
   ],
   "source": [
    "# Задание 4\n",
    "DEFAULT_USER_COUNT = 3\n",
    "\n",
    "def delete_and_return_last_user(region, default_list=['A100', 'A101', 'A102']):\n",
    "    \"\"\"\n",
    "    Удаляет из списка default_list последнего пользователя\n",
    "    и возвращает ID нового последнего пользователя.\n",
    "    \"\"\"\n",
    "    \n",
    "    element_to_delete = default_list[-1]\n",
    "    default_list.remove(element_to_delete)\n",
    "\n",
    "    return default_list[DEFAULT_USER_COUNT-2]\n",
    "\n",
    "print(delete_and_return_last_user(1))\n",
    "print(delete_and_return_last_user(1))\n",
    "\n",
    "# 1. В списке нет вызываемого индекса\n",
    "# 2. При первом вызове функции удаляется последний элемент списка(default_list) под индексом 2 (А102) и вызывается индекс 1 (А101).\n",
    "# При втором вызове, снова удаляется последний элемент списка, но теперь под индексом 1 (А101) и снова вызывается индекс 1, которого уже не существует."
   ]
  },
  {
   "cell_type": "code",
   "execution_count": null,
   "metadata": {},
   "outputs": [],
   "source": []
  }
 ]
}