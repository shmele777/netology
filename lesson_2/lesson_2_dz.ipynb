{
 "metadata": {
  "language_info": {
   "codemirror_mode": {
    "name": "ipython",
    "version": 3
   },
   "file_extension": ".py",
   "mimetype": "text/x-python",
   "name": "python",
   "nbconvert_exporter": "python",
   "pygments_lexer": "ipython3",
   "version": "3.8.3-final"
  },
  "orig_nbformat": 2,
  "kernelspec": {
   "name": "Python 3.8.3 64-bit ('anaconda3': virtualenv)",
   "display_name": "Python 3.8.3 64-bit ('anaconda3': virtualenv)",
   "metadata": {
    "interpreter": {
     "hash": "4446dcfb4e676438be56566da014fc769cee6a33fe7b9a2b444c71c03b87bcdc"
    }
   }
  }
 },
 "nbformat": 4,
 "nbformat_minor": 2,
 "cells": [
  {
   "cell_type": "code",
   "execution_count": 3,
   "metadata": {},
   "outputs": [
    {
     "output_type": "stream",
     "name": "stdout",
     "text": [
      "Четное количество: st\nНе четное количество: t\n"
     ]
    }
   ],
   "source": [
    "# Задание 1\n",
    "# Данный пример работает как с четным количеством букв, так и с не четным \n",
    "word = \"testin\"\n",
    "l_str = len(word)\n",
    "col = word[l_str//2+l_str%2-1:l_str//2+1]\n",
    "print(\"Четное количество:\", col)\n",
    "\n",
    "word = \"testing\"\n",
    "l_str = len(word)\n",
    "col = word[l_str//2+l_str%2-1:l_str//2+1]\n",
    "print(\"Не четное количество:\",col)"
   ]
  },
  {
   "cell_type": "code",
   "execution_count": 20,
   "metadata": {},
   "outputs": [
    {
     "output_type": "stream",
     "name": "stdout",
     "text": [
      "Вводите последовательно числа (0 - выход и подсчет суммы)\n",
      "Результат: \n",
      "9\n"
     ]
    }
   ],
   "source": [
    "# Задание 2\n",
    "print(\"Вводите последовательно числа (0 - выход и подсчет суммы)\")\n",
    "numbers = []\n",
    "num = True\n",
    "while num:\n",
    "    num = int(input(\"Введите число: \"))\n",
    "    numbers.append(num)\n",
    "print(\"Результат: \")\n",
    "print(sum(numbers))"
   ]
  },
  {
   "cell_type": "code",
   "execution_count": 2,
   "metadata": {},
   "outputs": [
    {
     "output_type": "stream",
     "name": "stdout",
     "text": [
      "Внимание, кто-то может остаться без пары!\n"
     ]
    }
   ],
   "source": [
    "# Задание 3\n",
    "boys = ['Peter', 'Alex', 'John', 'Arthur', 'Richard', 'Michael']\n",
    "girls = ['Kate', 'Liza', 'Kira', 'Emma', 'Trisha']\n",
    "\n",
    "boys.sort()\n",
    "girls.sort()\n",
    "\n",
    "if len(boys) == len(girls):\n",
    "    print(list(zip(boys, girls)))\n",
    "else:\n",
    "    print(\"Внимание, кто-то может остаться без пары!\")"
   ]
  },
  {
   "cell_type": "code",
   "execution_count": 109,
   "metadata": {},
   "outputs": [
    {
     "output_type": "stream",
     "name": "stdout",
     "text": [
      "Thailand - 23.9 C\nGermany - 13.8 C\nRussia - 3.7 C\nPoland - 12.0 C\n"
     ]
    }
   ],
   "source": [
    "# Задание 4\n",
    "countries_temperature = [\n",
    "['Thailand', [75.2, 77, 78.8, 73.4, 68, 75.2, 77]],\n",
    "['Germany', [57.2, 55.4, 59, 59, 53.6]],\n",
    "['Russia', [35.6, 37.4, 39.2, 41, 42.8, 39.2, 35.6]],\n",
    "['Poland', [50, 50, 53.6, 57.2, 55.4, 55.4]]\n",
    "]\n",
    "\n",
    "for country in countries_temperature:\n",
    "    midl_F = sum(country[1])/len(country[1])\n",
    "    midl_C = (midl_F -32)*5/9\n",
    "    print(f\"{country[0]} - {midl_C:03.1f} C\")"
   ]
  },
  {
   "cell_type": "code",
   "execution_count": 115,
   "metadata": {},
   "outputs": [
    {
     "output_type": "stream",
     "name": "stdout",
     "text": [
      "Среднее количество просмотров на уникального пользователя: 23.25\n"
     ]
    }
   ],
   "source": [
    "# Задание 5\n",
    "stream = [\n",
    "'2018-01-01,user1,3',\n",
    "'2018-01-07,user1,4',\n",
    "'2018-03-29,user1,1',\n",
    "'2018-04-04,user1,13',\n",
    "'2018-01-05,user2,7',\n",
    "'2018-06-14,user3,4',\n",
    "'2018-07-02,user3,10',\n",
    "'2018-03-21,user4,19',\n",
    "'2018-03-22,user4,4',\n",
    "'2018-04-22,user4,8',\n",
    "'2018-05-03,user4,9',\n",
    "'2018-05-11,user4,11',\n",
    "]\n",
    "\n",
    "users = []\n",
    "all_sum_page = 0\n",
    "for string in stream:\n",
    "    _, user, col_page = string.split(',')\n",
    "    users.append(user)\n",
    "    all_sum_page += int(col_page)\n",
    "u_users = all_sum_page / len(set(users))\n",
    "print(f\"Среднее количество просмотров на уникального пользователя: {u_users}\")"
   ]
  },
  {
   "cell_type": "code",
   "execution_count": null,
   "metadata": {},
   "outputs": [],
   "source": [
    "# Задание 6\n",
    "print(\"Введите числа:\")\n",
    "numbers = input().split(' ')\n",
    "col_numbers = set()\n",
    "for num in numbers:\n",
    "    while numbers.count(num)-1:\n",
    "        col_numbers.add(num)\n",
    "        break\n",
    "print(\"Результат:\")\n",
    "print(\" \".join(sorted(col_numbers)))"
   ]
  }
 ]
}