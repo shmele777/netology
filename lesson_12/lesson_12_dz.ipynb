{
 "metadata": {
  "language_info": {
   "codemirror_mode": {
    "name": "ipython",
    "version": 3
   },
   "file_extension": ".py",
   "mimetype": "text/x-python",
   "name": "python",
   "nbconvert_exporter": "python",
   "pygments_lexer": "ipython3",
   "version": "3.8.5-final"
  },
  "orig_nbformat": 2,
  "kernelspec": {
   "name": "python3",
   "display_name": "Python 3"
  }
 },
 "nbformat": 4,
 "nbformat_minor": 2,
 "cells": [
  {
   "cell_type": "code",
   "execution_count": 3,
   "metadata": {},
   "outputs": [
    {
     "output_type": "stream",
     "name": "stdout",
     "text": [
      "     timestamp    visit_id                                 url   region  \\\n0   1549980692  e3b0c44298  https://host.ru/3c19b4ef7371864fa3   Russia   \n1   1549980704  6e340b9cff  https://host.ru/c8d9213a31839f9a3a   Russia   \n2   1549980715  96a296d224  https://host.ru/b8b58337d272ee7b15   Russia   \n3   1549980725  709e80c884  https://host.ru/b8b58337d272ee7b15   Russia   \n4   1549980736  df3f619804  https://host.ru/b8b58337d272ee7b15   Russia   \n..         ...         ...                                 ...      ...   \n95  1549981294  8542681424  https://host.ru/f1eb4601740d627ab0   Russia   \n96  1549981298  2ea9ab9198  https://host.ru/9f90e5c423a5f976d4  Ukraine   \n97  1549981308  136dd1a7d0  https://host.ru/1be58f19f26458f2fe   Russia   \n98  1549981312  30274f1a3e  https://host.ru/5301a605bd574af1a5   Russia   \n99  1549981324  4b298058e1  https://host.ru/b8b58337d272ee7b15  Belarus   \n\n       user_id traffic_source source_type  \n0   b1613cc09f         yandex     organic  \n1   4c3ec14bee         direct      direct  \n2   a8c40697fb         yandex     organic  \n3   521ac1d6a0         yandex     organic  \n4   d7323c571c         yandex     organic  \n..         ...            ...         ...  \n95  9310ce3130           paid          ad  \n96  e9b6323d51          email       other  \n97  e0c3978e3a         direct      direct  \n98  691be7fee0         google     organic  \n99  4d4a578a01         direct      direct  \n\n[100 rows x 7 columns]\n"
     ]
    }
   ],
   "source": [
    "#Задание 1\n",
    "import pandas as pd\n",
    "\n",
    "def detect_type(param):\n",
    "    if param['traffic_source'] in ('yandex', 'google'):\n",
    "        return 'organic'\n",
    "    if param['traffic_source'] in ('paid', 'email'):\n",
    "        if param['region'] == 'Russia':\n",
    "            return 'ad'\n",
    "        else:\n",
    "            return 'other'\n",
    "    return param['traffic_source']\n",
    "\n",
    "log_df = pd.read_csv('visit_log.csv', sep=';')\n",
    "\n",
    "log_df['source_type'] = log_df.apply(detect_type, axis=1)\n",
    "print(log_df.head(100))"
   ]
  },
  {
   "cell_type": "code",
   "execution_count": 7,
   "metadata": {},
   "outputs": [
    {
     "output_type": "stream",
     "name": "stdout",
     "text": [
      "                                                    0\n4   /politics/36188461-s-marta-zhizn-rossiyan-susc...\n5   /world/36007585-tramp-pridumal-kak-reshit-ukra...\n6   /science/36157853-nasa-sobiraet-ekstrennuyu-pr...\n7   /video/36001498-poyavilis-pervye-podrobnosti-g...\n8   /world/36007585-tramp-pridumal-kak-reshit-ukra...\n11  /middleeast/36131117-divizion-s-400-ne-zametil...\n12  /economics/36065674-rossiyane-vozmutilis-minim...\n13  /politics/36118047-otets-24-detey-potreboval-i...\n14  /travel/36194479-v-sheremetevo-passazhiry-ustr...\n15  /politics/35638742-nesolidno-mariya-zaharova-s...\n"
     ]
    }
   ],
   "source": [
    "#Задание 2\n",
    "with open('URLs.txt') as txt:\n",
    "    df = pd.DataFrame(txt.readlines())\n",
    "    df = df[df[0].str.contains(r'/\\d{8}-\\S*/', regex=True)]\n",
    "    print(df.head(10))"
   ]
  },
  {
   "cell_type": "code",
   "execution_count": 8,
   "metadata": {},
   "outputs": [
    {
     "output_type": "stream",
     "name": "stdout",
     "text": [
      "                 keyword   shows               lemmas\n0    курс гривны к рублю  125076  курс гривна к рубль\n1        доллары в рубли  114173       доллар в рубль\n2  100 долларов в рублях   97534   100 доллар в рубль\n3             курс рубля   53546           курс рубль\n"
     ]
    }
   ],
   "source": [
    "#Задание 3\n",
    "from pymystem3 import Mystem\n",
    "\n",
    "data = pd.DataFrame({\n",
    "    'keyword': ['курс гривны к рублю', 'доллары в рубли', '100 долларов в рублях', 'курс рубля'],\n",
    "    'shows': [125076, 114173, 97534, 53546],\n",
    "})\n",
    "\n",
    "\n",
    "def str_to_lemmas(param):\n",
    "    lemmas = Mystem().lemmatize(param['keyword'])\n",
    "    return ''.join(lemmas[0:-1])\n",
    "\n",
    "data['lemmas'] = data.apply(str_to_lemmas, axis=1)\n",
    "\n",
    "print(data)"
   ]
  }
 ]
}