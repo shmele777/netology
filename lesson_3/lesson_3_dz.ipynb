{
 "metadata": {
  "language_info": {
   "codemirror_mode": {
    "name": "ipython",
    "version": 3
   },
   "file_extension": ".py",
   "mimetype": "text/x-python",
   "name": "python",
   "nbconvert_exporter": "python",
   "pygments_lexer": "ipython3",
   "version": "3.8.5-final"
  },
  "orig_nbformat": 2,
  "kernelspec": {
   "name": "Python 3.8.5 64-bit",
   "display_name": "Python 3.8.5 64-bit",
   "metadata": {
    "interpreter": {
     "hash": "31f2aee4e71d21fbe5cf8b01ff0e069b9275f58929596ceb00d14d90e3e16cd6"
    }
   }
  }
 },
 "nbformat": 4,
 "nbformat_minor": 2,
 "cells": [
  {
   "cell_type": "code",
   "execution_count": 1,
   "metadata": {},
   "outputs": [
    {
     "output_type": "stream",
     "name": "stdout",
     "text": [
      "{98, 35, 15, 213, 54, 119}\n"
     ]
    }
   ],
   "source": [
    "# Задание 1\n",
    "ids = {\n",
    "    'user1': [213, 213, 213, 15, 213],\n",
    "    'user2': [54, 54, 119, 119, 119],\n",
    "    'user3': [213, 98, 98, 35]\n",
    "    }\n",
    "\n",
    "geo_points = set()\n",
    "for p in ids.values():\n",
    "    geo_points.update(p) \n",
    "print(geo_points)"
   ]
  },
  {
   "cell_type": "code",
   "execution_count": 1,
   "metadata": {},
   "outputs": [
    {
     "output_type": "stream",
     "name": "stdout",
     "text": [
      "Поисковых запросов, содержащих 3 слов(а): 57.14%\nПоисковых запросов, содержащих 2 слов(а): 42.86%\n"
     ]
    }
   ],
   "source": [
    "# Задание 2\n",
    "queries = [\n",
    "    'смотреть сериалы онлайн',\n",
    "    'новости спорта',\n",
    "    'афиша кино',\n",
    "    'курс доллара',\n",
    "    'сериалы этим летом',\n",
    "    'курс по питону',\n",
    "    'сериалы про спорт',\n",
    "]\n",
    "\n",
    "resume = {}\n",
    "for req in queries:\n",
    "    col = len(req.split(' '))\n",
    "    if col in resume.keys():\n",
    "        resume[col] += 1\n",
    "    else:\n",
    "        resume[col] = 1\n",
    "\n",
    "for i, col in resume.items():\n",
    "    print(f'Поисковых запросов, содержащих {i} слов(а): {col/len(queries):.2%}')"
   ]
  },
  {
   "cell_type": "code",
   "execution_count": 3,
   "metadata": {},
   "outputs": [
    {
     "output_type": "stream",
     "name": "stdout",
     "text": [
      "{'adwords': {'revenue': 35, 'cost': 34, 'ROI': 2.94}, 'facebook': {'revenue': 103, 'cost': 110, 'ROI': -6.36}, 'twitter': {'revenue': 11, 'cost': 24, 'ROI': -54.17}, 'vk': {'revenue': 103, 'cost': 98, 'ROI': 5.1}, 'yandex': {'revenue': 179, 'cost': 153, 'ROI': 16.99}}\n"
     ]
    }
   ],
   "source": [
    "# Задание 3\n",
    "results = {\n",
    "'vk': {'revenue': 103, 'cost': 98},\n",
    "'yandex': {'revenue': 179, 'cost': 153},\n",
    "'facebook': {'revenue': 103, 'cost': 110},\n",
    "'adwords': {'revenue': 35, 'cost': 34},\n",
    "'twitter': {'revenue': 11, 'cost': 24},\n",
    "}\n",
    "results_roi = {}\n",
    "for company, params in results.items():\n",
    "    params['ROI'] = round((params['revenue']/params['cost']-1)*100, 2)\n",
    "    results_roi[company] = params\n",
    "\n",
    "print (dict(sorted(results.items())))"
   ]
  },
  {
   "cell_type": "code",
   "execution_count": null,
   "metadata": {},
   "outputs": [],
   "source": []
  }
 ]
}