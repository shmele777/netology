{
 "metadata": {
  "language_info": {
   "codemirror_mode": {
    "name": "ipython",
    "version": 3
   },
   "file_extension": ".py",
   "mimetype": "text/x-python",
   "name": "python",
   "nbconvert_exporter": "python",
   "pygments_lexer": "ipython3",
   "version": "3.8.5-final"
  },
  "orig_nbformat": 2,
  "kernelspec": {
   "name": "Python 3.8.5 64-bit",
   "display_name": "Python 3.8.5 64-bit",
   "metadata": {
    "interpreter": {
     "hash": "31f2aee4e71d21fbe5cf8b01ff0e069b9275f58929596ceb00d14d90e3e16cd6"
    }
   }
  }
 },
 "nbformat": 4,
 "nbformat_minor": 2,
 "cells": [
  {
   "cell_type": "code",
   "execution_count": 1,
   "metadata": {},
   "outputs": [
    {
     "output_type": "stream",
     "name": "stdout",
     "text": [
      "{98, 35, 15, 213, 54, 119}\n"
     ]
    }
   ],
   "source": [
    "# Задание 1\n",
    "ids = {\n",
    "    'user1': [213, 213, 213, 15, 213],\n",
    "    'user2': [54, 54, 119, 119, 119],\n",
    "    'user3': [213, 98, 98, 35]\n",
    "    }\n",
    "\n",
    "geo_points = set()\n",
    "for p in ids.values():\n",
    "    geo_points.update(p) \n",
    "print(geo_points)"
   ]
  },
  {
   "cell_type": "code",
   "execution_count": 1,
   "metadata": {},
   "outputs": [
    {
     "output_type": "stream",
     "name": "stdout",
     "text": [
      "Поисковых запросов, содержащих 3 слов(а): 57.14%\nПоисковых запросов, содержащих 2 слов(а): 42.86%\n"
     ]
    }
   ],
   "source": [
    "# Задание 2\n",
    "queries = [\n",
    "    'смотреть сериалы онлайн',\n",
    "    'новости спорта',\n",
    "    'афиша кино',\n",
    "    'курс доллара',\n",
    "    'сериалы этим летом',\n",
    "    'курс по питону',\n",
    "    'сериалы про спорт',\n",
    "]\n",
    "\n",
    "resume = {}\n",
    "for req in queries:\n",
    "    col = len(req.split(' '))\n",
    "    if col in resume.keys():\n",
    "        resume[col] += 1\n",
    "    else:\n",
    "        resume[col] = 1\n",
    "\n",
    "for i, col in resume.items():\n",
    "    print(f'Поисковых запросов, содержащих {i} слов(а): {col/len(queries):.2%}')"
   ]
  },
  {
   "cell_type": "code",
   "execution_count": 3,
   "metadata": {},
   "outputs": [
    {
     "output_type": "stream",
     "name": "stdout",
     "text": [
      "{'adwords': {'revenue': 35, 'cost': 34, 'ROI': 2.94}, 'facebook': {'revenue': 103, 'cost': 110, 'ROI': -6.36}, 'twitter': {'revenue': 11, 'cost': 24, 'ROI': -54.17}, 'vk': {'revenue': 103, 'cost': 98, 'ROI': 5.1}, 'yandex': {'revenue': 179, 'cost': 153, 'ROI': 16.99}}\n"
     ]
    }
   ],
   "source": [
    "# Задание 3\n",
    "results = {\n",
    "'vk': {'revenue': 103, 'cost': 98},\n",
    "'yandex': {'revenue': 179, 'cost': 153},\n",
    "'facebook': {'revenue': 103, 'cost': 110},\n",
    "'adwords': {'revenue': 35, 'cost': 34},\n",
    "'twitter': {'revenue': 11, 'cost': 24},\n",
    "}\n",
    "results_roi = {}\n",
    "for company, params in results.items():\n",
    "    params['ROI'] = round((params['revenue']/params['cost']-1)*100, 2)\n",
    "    results_roi[company] = params\n",
    "\n",
    "print (dict(sorted(results.items())))"
   ]
  },
  {
   "cell_type": "code",
   "execution_count": null,
   "metadata": {},
   "outputs": [],
   "source": [
    "# Задание 4\n",
    "stats = {'facebook': 55, 'yandex': 115, 'vk': 120, 'google': 99, 'email': 42, 'ok': 98}\n",
    "\n",
    "company_max_sale = ''\n",
    "sale_max = 0\n",
    "for company, sale in stats.items():\n",
    "    if sale > sale_max:\n",
    "        sale_max = sale\n",
    "        company_max_sale = company\n",
    "\n",
    "print('Максимальный объем продаж на рекламном канале:', company_max_sale)"
   ]
  },
  {
   "cell_type": "code",
   "execution_count": null,
   "metadata": {},
   "outputs": [],
   "source": [
    "# Задание 5\n",
    "my_list = ['a', 'b', 'c', 'd', 'e', 'f']\n",
    "\n",
    "result_dict = {my_list[-2]: my_list[-1]}\n",
    "for i in range(3, len(my_list) + 1):\n",
    "    result_dict = {my_list[-i]: result_dict}\n",
    "\n",
    "print('Результат:', result_dict)"
   ]
  },
  {
   "cell_type": "code",
   "execution_count": null,
   "metadata": {},
   "outputs": [],
   "source": [
    "# Задание 6\n",
    "cook_book = {\n",
    "    'салат': [\n",
    "        {'ingridient_name': 'сыр', 'quantity': 50, 'measure': 'гр'},\n",
    "        {'ingridient_name': 'томаты', 'quantity': 20, 'measure': 'гр'},\n",
    "        {'ingridient_name': 'огурцы', 'quantity': 20, 'measure': 'гр'},\n",
    "        {'ingridient_name': 'маслины', 'quantity': 10, 'measure': 'гр'},\n",
    "        {'ingridient_name': 'оливковое масло', 'quantity': 20, 'measure': 'мл'},\n",
    "        {'ingridient_name': 'салат', 'quantity': 10, 'measure': 'гр'},\n",
    "        {'ingridient_name': 'перец', 'quantity': 20, 'measure': 'гр'}\n",
    "    ],\n",
    "    'пицца': [\n",
    "        {'ingridient_name': 'сыр', 'quantity': 20, 'measure': 'гр'},\n",
    "        {'ingridient_name': 'колбаса', 'quantity': 30, 'measure': 'гр'},\n",
    "        {'ingridient_name': 'бекон', 'quantity': 30, 'measure': 'гр'},\n",
    "        {'ingridient_name': 'оливки', 'quantity': 10, 'measure': 'гр'},\n",
    "        {'ingridient_name': 'томаты', 'quantity': 20, 'measure': 'гр'},\n",
    "        {'ingridient_name': 'тесто', 'quantity': 100, 'measure': 'гр'},\n",
    "    ],\n",
    "    'лимонад': [\n",
    "        {'ingridient_name': 'лимон', 'quantity': 1, 'measure': 'шт'},\n",
    "        {'ingridient_name': 'вода', 'quantity': 200, 'measure': 'мл'},\n",
    "        {'ingridient_name': 'сахар', 'quantity': 10, 'measure': 'гр'},\n",
    "        {'ingridient_name': 'лайм', 'quantity': 20, 'measure': 'гр'},\n",
    "    ]\n",
    "}\n",
    "\n",
    "col_person = int(input('Введите количество порций: '))\n",
    "all_ingridients = {}\n",
    "\n",
    "for dish, ingridiets in cook_book.items():\n",
    "    for i in ingridiets:\n",
    "        if i['ingridient_name'] in all_ingridients:\n",
    "            all_ingridients[i['ingridient_name']]['quantity'] += i['quantity'] * col_person\n",
    "        else:\n",
    "            all_ingridients[i['ingridient_name']] = {'quantity': i['quantity'] * col_person, 'measure': i['measure']}\n",
    "\n",
    "print('\\nРезультат:\\n')\n",
    "for name, col in all_ingridients.items():\n",
    "    print(f'{name}: {col[\"quantity\"]} {col[\"measure\"]}')"
   ]
  }
 ]
}