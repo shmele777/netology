{
 "metadata": {
  "language_info": {
   "codemirror_mode": {
    "name": "ipython",
    "version": 3
   },
   "file_extension": ".py",
   "mimetype": "text/x-python",
   "name": "python",
   "nbconvert_exporter": "python",
   "pygments_lexer": "ipython3",
   "version": "3.8.5-final"
  },
  "orig_nbformat": 2,
  "kernelspec": {
   "name": "python3",
   "display_name": "Python 3"
  }
 },
 "nbformat": 4,
 "nbformat_minor": 2,
 "cells": [
  {
   "cell_type": "code",
   "execution_count": 2,
   "metadata": {},
   "outputs": [
    {
     "output_type": "stream",
     "name": "stdout",
     "text": [
      "223\n222\n"
     ]
    }
   ],
   "source": [
    "# Task 1.1\n",
    "import re\n",
    "string_01 = \"History is always written by the winners. hen two cultures clash, the loser is obliterated, and the winner writes the history books-books which glorify their own cause and disparage the conquered foe. As Napoleon once said, 'What is history, but a fable agreed upon?\"\n",
    "\n",
    "\n",
    "print(len(string_01.replace(' ', '')))\n",
    "print(len(re.findall(r'[\\w,.-?\\']', string_01)))"
   ]
  },
  {
   "cell_type": "code",
   "execution_count": 3,
   "metadata": {},
   "outputs": [
    {
     "output_type": "stream",
     "name": "stdout",
     "text": [
      "45\n"
     ]
    }
   ],
   "source": [
    "#Task 1.2\n",
    "print(len(re.findall(r'\\w+[\\s,.?-]', string_01)))"
   ]
  },
  {
   "cell_type": "code",
   "execution_count": 4,
   "metadata": {},
   "outputs": [
    {
     "output_type": "stream",
     "name": "stdout",
     "text": [
      "['History', 'hen', 'history', 'history']\n"
     ]
    }
   ],
   "source": [
    "#Task 1.3\n",
    "def search_word(simbol: str) -> list:\n",
    "    pat = r'(\\b{}\\w+)(?:[\\s,.?-])'.format(simbol)\n",
    "    return re.findall(pat, string_01, flags=re.I)\n",
    "\n",
    "print(search_word('H'))"
   ]
  },
  {
   "cell_type": "code",
   "execution_count": null,
   "metadata": {},
   "outputs": [],
   "source": [
    "#Task 2\n",
    "import random\n",
    "result = \"\"\n",
    "for i in range(6):\n",
    "    result += str(random.choice([3, random.randint(0, 9)]))\n",
    "print(result)"
   ]
  },
  {
   "cell_type": "code",
   "execution_count": null,
   "metadata": {},
   "outputs": [],
   "source": [
    "#Task 3\n",
    "sum_10_100 = 0\n",
    "sum_200_500 = 0\n",
    "list_01 = [1, 1, 2, 3, 5, 8, 13, 21, 34, 55, 89, 144, 233, 377, 610, 14, 46, 273, 22, 99, 15, 1000]\n",
    "for i in list_01:\n",
    "    if  10 < i < 100:\n",
    "        sum_10_100 += i\n",
    "    if  200 < i < 500:\n",
    "        sum_200_500 += i\n",
    "\n",
    "print(sum_10_100, sum_200_500)"
   ]
  },
  {
   "cell_type": "code",
   "execution_count": null,
   "metadata": {},
   "outputs": [],
   "source": [
    "#Task 4.1\n",
    "students = [\n",
    "    [\"0001\", \"Антонов\", \"Антон\", \"Игоревич\", \"20.08.2009\",\"БСТ161\"],\n",
    "    [\"1102\", \"Богов\", \"Артем\", \"Игоревич\", \"25.01.2010\",\"БСТ162\"],\n",
    "    [\"0333\", \"Глаголева\", \"Анастасия\", \"Николаевна\", \"11.07.2009\", \"БСТ163\"],\n",
    "    [\"4004\", \"Степанова\", \"Наталья\", \"Александровна\", \"13.02.2008\", \"БСТ161\"],\n",
    "    [\"0045\", \"Боков\", \"Игорь\", \"Харитонович\", \"02.06.2009\", \"БСТ161\"],\n",
    "    [\"0096\", \"Васильков\", \"Валентин\", \"Сергеевич\", \"20.03.2009\", \"БСТ164\"],\n",
    "    [\"0607\", \"Сиропова\", \"Виолетта\", \"Эдуардовна\", \"28.05.2010\", \"БСТ162\"]\n",
    "]\n",
    "\n",
    "result = {}\n",
    "for i in students:\n",
    "    result[i[0]] = list(i[x] for x, _ in enumerate(i) if x >= 1)\n",
    "\n",
    "print(result)"
   ]
  },
  {
   "cell_type": "code",
   "execution_count": null,
   "metadata": {},
   "outputs": [],
   "source": [
    "#Task 4.2\n",
    "def chen_stud_num(num_stud: str, new_num_group: str):\n",
    "    for i in students:\n",
    "        if i[0] == num_stud:\n",
    "            i[5] = new_num_group\n",
    "            print(i)"
   ]
  },
  {
   "cell_type": "code",
   "execution_count": null,
   "metadata": {},
   "outputs": [],
   "source": [
    "#Task 4.3\n",
    "def fio_in_group(num_group: str) -> str:\n",
    "    for i in students:\n",
    "        if i[5] == num_group:\n",
    "            print(i[1], i[2], i[3])\n",
    "\n",
    "fio_in_group(\"БСТ161\")"
   ]
  },
  {
   "cell_type": "code",
   "execution_count": null,
   "metadata": {},
   "outputs": [],
   "source": [
    "#Task 5.1\n",
    "matrix = [ \n",
    "    [0,1,2,4,8], \n",
    "    [6,2,2,1,9], \n",
    "    [3,3,3,3,3], \n",
    "    [4,6,7,1,2], \n",
    "    [5,7,3,4,0] \n",
    "]\n",
    "\n",
    "print(sum(sum(i) for i in matrix))"
   ]
  },
  {
   "cell_type": "code",
   "execution_count": null,
   "metadata": {},
   "outputs": [],
   "source": [
    "#Task 5.2\n",
    "res = []\n",
    "for i in range(len(matrix[0])):\n",
    "    res.append(0)\n",
    "    for x in matrix:\n",
    "       res[i] += x[i] \n",
    "\n",
    "print(max(res))"
   ]
  }
 ]
}