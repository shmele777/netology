{
 "metadata": {
  "language_info": {
   "codemirror_mode": {
    "name": "ipython",
    "version": 3
   },
   "file_extension": ".py",
   "mimetype": "text/x-python",
   "name": "python",
   "nbconvert_exporter": "python",
   "pygments_lexer": "ipython3",
   "version": "3.8.5-final"
  },
  "orig_nbformat": 2,
  "kernelspec": {
   "name": "python3",
   "display_name": "Python 3",
   "language": "python"
  }
 },
 "nbformat": 4,
 "nbformat_minor": 2,
 "cells": [
  {
   "cell_type": "code",
   "execution_count": 3,
   "metadata": {},
   "outputs": [],
   "source": [
    "import pandas as pd"
   ]
  },
  {
   "cell_type": "code",
   "execution_count": 4,
   "metadata": {},
   "outputs": [
    {
     "output_type": "stream",
     "name": "stdout",
     "text": [
      "<class 'pandas.core.frame.DataFrame'>\nRangeIndex: 299 entries, 0 to 298\nData columns (total 8 columns):\n #   Column              Non-Null Count  Dtype  \n---  ------              --------------  -----  \n 0   surgery             298 non-null    float64\n 1   Age                 299 non-null    int64  \n 2   rectal temperature  239 non-null    float64\n 3   pulse               275 non-null    float64\n 4   abdomen             181 non-null    float64\n 5   packed cell volume  270 non-null    float64\n 6   total protein       266 non-null    float64\n 7   outcome             298 non-null    float64\ndtypes: float64(7), int64(1)\nmemory usage: 18.8 KB\nNone\n          surgery        Age  rectal temperature       pulse     abdomen  \\\ncount  298.000000  299.00000          239.000000  275.000000  181.000000   \nmean     1.395973    1.64214           38.166527   71.934545    3.685083   \nstd      0.489881    2.17730            0.733508   28.680522    1.492667   \nmin      1.000000    1.00000           35.400000   30.000000    1.000000   \n25%      1.000000    1.00000           37.800000   48.000000    2.000000   \n50%      1.000000    1.00000           38.200000   64.000000    4.000000   \n75%      2.000000    1.00000           38.500000   88.000000    5.000000   \nmax      2.000000    9.00000           40.800000  184.000000    5.000000   \n\n       packed cell volume  total protein     outcome  \ncount          270.000000     266.000000  298.000000  \nmean            46.300000      24.517293    1.550336  \nstd             10.438384      27.509056    0.737967  \nmin             23.000000       3.300000    1.000000  \n25%             38.000000       6.500000    1.000000  \n50%             45.000000       7.500000    1.000000  \n75%             52.000000      57.000000    2.000000  \nmax             75.000000      89.000000    3.000000  \n        surgery  Age  rectal temperature  pulse  abdomen  packed cell volume  \\\nmedian      1.0  1.0                38.2   64.0      4.0                45.0   \n\n        total protein  outcome  \nmedian            7.5      1.0  \n   surgery  Age  rectal temperature  pulse  abdomen  packed cell volume  \\\n0      1.0  1.0                38.0   48.0      5.0                37.0   \n1      NaN  NaN                 NaN    NaN      NaN                50.0   \n\n   total protein  outcome  \n0            6.5      1.0  \n1            7.0      NaN  \n"
     ]
    }
   ],
   "source": [
    "# Задание 1\n",
    "horse_df = pd.read_csv('horse_data.csv', na_values='?', usecols=(0, 1, 3, 4, 17, 18, 19, 22))\n",
    "horse_df.columns = ['surgery', 'Age', 'rectal temperature', 'pulse', 'abdomen', 'packed cell volume', 'total protein', 'outcome']\n",
    "\n",
    "print(horse_df.info())\n",
    "print(horse_df.describe())\n",
    "print(horse_df.agg(['median']))\n",
    "print(horse_df.mode())\n",
    "\n",
    "# Вывод: Почти все пациенты старше 6 месяцев, в основном происходит хирургическое вмешательство.\n",
    "#   Обычно у пациентов наблюдается:\n",
    "#       повышенный пульс и ректальная температура;\n",
    "#       нормальное содержание белка;\n",
    "#       растянутый толстый кишечник;\n",
    "#   Чаще всего пациент выживает."
   ]
  },
  {
   "cell_type": "code",
   "execution_count": 8,
   "metadata": {},
   "outputs": [],
   "source": [
    "# Задание 2\n",
    "def my_func(df, param):\n",
    "    \"\"\"\n",
    "    Поиск выбрасов через межквартельный размах\n",
    "    \"\"\"\n",
    "    q1 = df[param].quantile(0.25)\n",
    "    q3 = df[param].quantile(0.75)\n",
    "    iqr = q3 - q1\n",
    "    lower_bound = q1 - (1.5 * iqr) \n",
    "    upper_bound = q3 + (1.5 * iqr)\n",
    "    remove_outliers = df[df[param].between(lower_bound, upper_bound, inclusive=True)]\n",
    "    print(remove_outliers.describe())\n",
    "    print(remove_outliers.agg(['median']))\n",
    "    print(remove_outliers.mode())\n",
    "    print(pd.concat([df, remove_outliers]).drop_duplicates(keep=False).sort_values(param))"
   ]
  },
  {
   "cell_type": "code",
   "execution_count": 9,
   "metadata": {},
   "outputs": [
    {
     "output_type": "stream",
     "name": "stdout",
     "text": [
      "          surgery         Age  rectal temperature       pulse     abdomen  \\\ncount  224.000000  225.000000          225.000000  219.000000  133.000000   \nmean     1.406250    1.675556           38.167556   69.054795    3.473684   \nstd      0.492232    2.229385            0.572795   28.738727    1.564662   \nmin      1.000000    1.000000           36.800000   30.000000    1.000000   \n25%      1.000000    1.000000           37.800000   48.000000    2.000000   \n50%      1.000000    1.000000           38.200000   60.000000    4.000000   \n75%      2.000000    1.000000           38.500000   86.000000    5.000000   \nmax      2.000000    9.000000           39.500000  184.000000    5.000000   \n\n       packed cell volume  total protein     outcome  \ncount          207.000000     204.000000  224.000000  \nmean            45.376812      25.764706    1.473214  \nstd             10.332837      28.040381    0.720735  \nmin             23.000000       3.300000    1.000000  \n25%             37.250000       6.600000    1.000000  \n50%             44.000000       7.500000    1.000000  \n75%             50.000000      58.250000    2.000000  \nmax             75.000000      89.000000    3.000000  \n        surgery  Age  rectal temperature  pulse  abdomen  packed cell volume  \\\nmedian      1.0  1.0                38.2   60.0      4.0                44.0   \n\n        total protein  outcome  \nmedian            7.5      1.0  \n   surgery  Age  rectal temperature  pulse  abdomen  packed cell volume  \\\n0      1.0    1                38.0   48.0      5.0                37.0   \n\n   total protein  outcome  \n0            7.0      1.0  \n     surgery  Age  rectal temperature  pulse  abdomen  packed cell volume  \\\n43       1.0    1                35.4  140.0      5.0                57.0   \n140      2.0    1                36.0   42.0      NaN                64.0   \n237      2.0    1                36.1   88.0      4.0                45.0   \n79       1.0    1                36.4   98.0      4.0                47.0   \n117      1.0    1                36.5   78.0      NaN                34.0   \n..       ...  ...                 ...    ...      ...                 ...   \n253      1.0    1                 NaN   80.0      5.0                43.0   \n264      2.0    1                 NaN   56.0      NaN                40.0   \n273      1.0    1                 NaN   76.0      5.0                 NaN   \n292      1.0    1                 NaN   78.0      4.0                43.0   \n294      1.0    1                 NaN  120.0      5.0                55.0   \n\n     total protein  outcome  \n43            69.0      3.0  \n140            6.8      2.0  \n237            7.0      3.0  \n79             6.4      2.0  \n117           75.0      1.0  \n..             ...      ...  \n253           70.0      1.0  \n264            6.0      3.0  \n273            NaN      3.0  \n292           62.0      3.0  \n294           65.0      3.0  \n\n[64 rows x 8 columns]\n"
     ]
    }
   ],
   "source": [
    "my_func(horse_df, 'rectal temperature')"
   ]
  },
  {
   "cell_type": "code",
   "execution_count": 10,
   "metadata": {},
   "outputs": [
    {
     "output_type": "stream",
     "name": "stdout",
     "text": [
      "          surgery         Age  rectal temperature       pulse     abdomen  \\\ncount  269.000000  270.000000          228.000000  270.000000  171.000000   \nmean     1.405204    1.503704           38.135088   70.274074    3.660819   \nstd      0.491847    1.946779            0.729490   26.129625    1.511383   \nmin      1.000000    1.000000           35.400000   30.000000    1.000000   \n25%      1.000000    1.000000           37.800000   48.000000    2.000000   \n50%      1.000000    1.000000           38.100000   64.000000    4.000000   \n75%      2.000000    1.000000           38.500000   88.000000    5.000000   \nmax      2.000000    9.000000           40.800000  146.000000    5.000000   \n\n       packed cell volume  total protein     outcome  \ncount          248.000000     245.000000  269.000000  \nmean            46.387097      25.578776    1.546468  \nstd             10.289403      27.977912    0.754759  \nmin             23.000000       4.000000    1.000000  \n25%             38.750000       6.600000    1.000000  \n50%             44.500000       7.500000    1.000000  \n75%             52.000000      58.000000    2.000000  \nmax             75.000000      89.000000    3.000000  \n        surgery  Age  rectal temperature  pulse  abdomen  packed cell volume  \\\nmedian      1.0  1.0                38.1   64.0      4.0                44.5   \n\n        total protein  outcome  \nmedian            7.5      1.0  \n   surgery  Age  rectal temperature  pulse  abdomen  packed cell volume  \\\n0      1.0  1.0                38.0   48.0      5.0                37.0   \n1      NaN  NaN                 NaN    NaN      NaN                50.0   \n\n   total protein  outcome  \n0            7.0      1.0  \n1            NaN      NaN  \n     surgery  Age  rectal temperature  pulse  abdomen  packed cell volume  \\\n40       2.0    9                39.0  150.0      NaN                47.0   \n274      1.0    9                38.8  150.0      NaN                50.0   \n54       1.0    9                38.6  160.0      NaN                38.0   \n2        1.0    9                39.1  164.0      NaN                48.0   \n254      1.0    9                38.8  184.0      NaN                33.0   \n4        2.0    1                 NaN    NaN      3.0                 NaN   \n27       1.0    1                 NaN    NaN      NaN                 NaN   \n51       2.0    1                 NaN    NaN      2.0                43.0   \n55       1.0    1                 NaN    NaN      NaN                24.0   \n57       1.0    1                 NaN    NaN      4.0                53.0   \n73       1.0    9                 NaN    NaN      NaN                37.0   \n92       2.0    1                 NaN    NaN      5.0                38.0   \n114      2.0    1                 NaN    NaN      NaN                45.0   \n116      2.0    1                39.5    NaN      5.0                 NaN   \n125      1.0    1                38.7    NaN      NaN                33.0   \n150      1.0    1                39.3    NaN      4.0                75.0   \n158      2.0    1                 NaN    NaN      3.0                44.0   \n159      1.0    1                 NaN    NaN      5.0                35.0   \n173      2.0    1                 NaN    NaN      NaN                 NaN   \n203      1.0    1                39.2    NaN      NaN                36.0   \n206      1.0    1                 NaN    NaN      NaN                45.0   \n215      2.0    1                 NaN    NaN      NaN                 NaN   \n226      1.0    9                 NaN    NaN      NaN                45.0   \n\n     total protein  outcome  \n40             8.5      1.0  \n274            6.2      2.0  \n54             NaN      2.0  \n2              7.2      2.0  \n254            3.3      2.0  \n4              NaN      1.0  \n27             NaN      2.0  \n51             7.7      1.0  \n55             6.7      1.0  \n57             5.9      2.0  \n73             4.9      2.0  \n92             6.5      2.0  \n114           70.0      1.0  \n116            6.7      3.0  \n125            6.5      1.0  \n150            NaN      2.0  \n158            7.5      1.0  \n159           58.0      1.0  \n173            NaN      2.0  \n203            6.6      1.0  \n206            8.7      2.0  \n215            NaN      1.0  \n226            6.5      1.0  \n"
     ]
    }
   ],
   "source": [
    "my_func(horse_df, 'pulse')"
   ]
  },
  {
   "cell_type": "code",
   "execution_count": 11,
   "metadata": {},
   "outputs": [
    {
     "output_type": "stream",
     "name": "stdout",
     "text": [
      "          surgery         Age  rectal temperature       pulse     abdomen  \\\ncount  266.000000  267.000000          218.000000  251.000000  167.000000   \nmean     1.402256    1.689139           38.174312   71.844622    3.622754   \nstd      0.491277    2.248808            0.731630   28.757951    1.503477   \nmin      1.000000    1.000000           35.400000   30.000000    1.000000   \n25%      1.000000    1.000000           37.800000   48.000000    2.000000   \n50%      1.000000    1.000000           38.200000   64.000000    4.000000   \n75%      2.000000    1.000000           38.500000   88.000000    5.000000   \nmax      2.000000    9.000000           40.800000  184.000000    5.000000   \n\n       packed cell volume  total protein     outcome  \ncount          267.000000     261.000000  266.000000  \nmean            45.981273      24.571648    1.511278  \nstd             10.050326      27.463123    0.717612  \nmin             23.000000       3.300000    1.000000  \n25%             38.000000       6.500000    1.000000  \n50%             44.000000       7.500000    1.000000  \n75%             51.500000      57.000000    2.000000  \nmax             73.000000      89.000000    3.000000  \n        surgery  Age  rectal temperature  pulse  abdomen  packed cell volume  \\\nmedian      1.0  1.0                38.2   64.0      4.0                44.0   \n\n        total protein  outcome  \nmedian            7.5      1.0  \n   surgery  Age  rectal temperature  pulse  abdomen  packed cell volume  \\\n0      1.0  1.0                38.0   48.0      5.0                37.0   \n1      NaN  NaN                 NaN    NaN      NaN                50.0   \n\n   total protein  outcome  \n0            6.5      1.0  \n1            NaN      NaN  \n     surgery  Age  rectal temperature  pulse  abdomen  packed cell volume  \\\n3        2.0    1                37.3  104.0      NaN                74.0   \n143      1.0    1                37.1   84.0      5.0                75.0   \n150      1.0    1                39.3    NaN      4.0                75.0   \n4        2.0    1                 NaN    NaN      3.0                 NaN   \n11       1.0    1                37.2   42.0      5.0                 NaN   \n16       2.0    1                37.5   48.0      NaN                 NaN   \n24       2.0    1                37.8   60.0      NaN                 NaN   \n27       1.0    1                 NaN    NaN      NaN                 NaN   \n38       1.0    9                39.2  146.0      NaN                 NaN   \n50       1.0    1                37.4   84.0      5.0                 NaN   \n71       1.0    1                37.7   56.0      NaN                 NaN   \n100      1.0    1                 NaN   60.0      5.0                 NaN   \n112      1.0    1                36.8   60.0      NaN                 NaN   \n116      2.0    1                39.5    NaN      5.0                 NaN   \n129      1.0    1                37.8   30.0      NaN                 NaN   \n136      1.0    1                38.0   48.0      5.0                 NaN   \n157      2.0    1                38.0   42.0      NaN                 NaN   \n166      2.0    1                 NaN   44.0      1.0                 NaN   \n168      1.0    1                 NaN   65.0      5.0                 NaN   \n173      2.0    1                 NaN    NaN      NaN                 NaN   \n176      1.0    1                 NaN   68.0      NaN                 NaN   \n215      2.0    1                 NaN    NaN      NaN                 NaN   \n217      1.0    1                38.1   40.0      NaN                 NaN   \n219      1.0    1                39.2   88.0      NaN                 NaN   \n229      1.0    1                38.5  104.0      NaN                 NaN   \n242      1.0    1                38.4   92.0      NaN                 NaN   \n247      1.0    1                38.0  108.0      4.0                 NaN   \n273      1.0    1                 NaN   76.0      5.0                 NaN   \n\n     total protein  outcome  \n3              7.4      2.0  \n143           81.0      3.0  \n150            NaN      2.0  \n4              NaN      1.0  \n11             7.0      1.0  \n16             NaN      1.0  \n24             NaN      1.0  \n27             NaN      2.0  \n38             NaN      2.0  \n50             NaN      2.0  \n71             NaN      2.0  \n100            NaN      3.0  \n112            NaN      2.0  \n116            6.7      3.0  \n129            NaN      2.0  \n136            NaN      1.0  \n157            NaN      1.0  \n166            6.3      1.0  \n168            NaN      3.0  \n173            NaN      2.0  \n176            NaN      2.0  \n215            NaN      1.0  \n217            NaN      3.0  \n219            NaN      3.0  \n229            NaN      1.0  \n242            NaN      1.0  \n247            NaN      1.0  \n273            NaN      3.0  \n"
     ]
    }
   ],
   "source": [
    "my_func(horse_df, 'packed cell volume')"
   ]
  },
  {
   "cell_type": "code",
   "execution_count": 12,
   "metadata": {},
   "outputs": [
    {
     "output_type": "stream",
     "name": "stdout",
     "text": [
      "          surgery         Age  rectal temperature       pulse     abdomen  \\\ncount  265.000000  266.000000          218.000000  249.000000  167.000000   \nmean     1.403774    1.661654           38.172018   71.176707    3.604790   \nstd      0.491582    2.207662            0.739845   28.200050    1.516806   \nmin      1.000000    1.000000           35.400000   30.000000    1.000000   \n25%      1.000000    1.000000           37.800000   48.000000    2.000000   \n50%      1.000000    1.000000           38.200000   64.000000    4.000000   \n75%      2.000000    1.000000           38.500000   88.000000    5.000000   \nmax      2.000000    9.000000           40.800000  184.000000    5.000000   \n\n       packed cell volume  total protein     outcome  \ncount          263.000000     266.000000  265.000000  \nmean            46.136882      24.517293    1.513208  \nstd             10.312775      27.509056    0.723532  \nmin             23.000000       3.300000    1.000000  \n25%             38.000000       6.500000    1.000000  \n50%             45.000000       7.500000    1.000000  \n75%             51.500000      57.000000    2.000000  \nmax             75.000000      89.000000    3.000000  \n        surgery  Age  rectal temperature  pulse  abdomen  packed cell volume  \\\nmedian      1.0  1.0                38.2   64.0      4.0                45.0   \n\n        total protein  outcome  \nmedian            7.5      1.0  \n   surgery  Age  rectal temperature  pulse  abdomen  packed cell volume  \\\n0      1.0  1.0                38.0   48.0      5.0                37.0   \n1      NaN  NaN                 NaN    NaN      NaN                50.0   \n\n   total protein  outcome  \n0            6.5      1.0  \n1            7.0      NaN  \n     surgery  Age  rectal temperature  pulse  abdomen  packed cell volume  \\\n4        2.0    1                 NaN    NaN      3.0                 NaN   \n16       2.0    1                37.5   48.0      NaN                 NaN   \n24       2.0    1                37.8   60.0      NaN                 NaN   \n27       1.0    1                 NaN    NaN      NaN                 NaN   \n38       1.0    9                39.2  146.0      NaN                 NaN   \n50       1.0    1                37.4   84.0      5.0                 NaN   \n54       1.0    9                38.6  160.0      NaN                38.0   \n71       1.0    1                37.7   56.0      NaN                 NaN   \n80       1.0    1                37.3   40.0      5.0                36.0   \n100      1.0    1                 NaN   60.0      5.0                 NaN   \n112      1.0    1                36.8   60.0      NaN                 NaN   \n129      1.0    1                37.8   30.0      NaN                 NaN   \n136      1.0    1                38.0   48.0      5.0                 NaN   \n150      1.0    1                39.3    NaN      4.0                75.0   \n157      2.0    1                38.0   42.0      NaN                 NaN   \n168      1.0    1                 NaN   65.0      5.0                 NaN   \n173      2.0    1                 NaN    NaN      NaN                 NaN   \n176      1.0    1                 NaN   68.0      NaN                 NaN   \n184      1.0    1                38.5  120.0      NaN                54.0   \n215      2.0    1                 NaN    NaN      NaN                 NaN   \n217      1.0    1                38.1   40.0      NaN                 NaN   \n219      1.0    1                39.2   88.0      NaN                 NaN   \n229      1.0    1                38.5  104.0      NaN                 NaN   \n242      1.0    1                38.4   92.0      NaN                 NaN   \n247      1.0    1                38.0  108.0      4.0                 NaN   \n273      1.0    1                 NaN   76.0      5.0                 NaN   \n295      2.0    1                37.2   72.0      4.0                44.0   \n\n     total protein  outcome  \n4              NaN      1.0  \n16             NaN      1.0  \n24             NaN      1.0  \n27             NaN      2.0  \n38             NaN      2.0  \n50             NaN      2.0  \n54             NaN      2.0  \n71             NaN      2.0  \n80             NaN      1.0  \n100            NaN      3.0  \n112            NaN      2.0  \n129            NaN      2.0  \n136            NaN      1.0  \n150            NaN      2.0  \n157            NaN      1.0  \n168            NaN      3.0  \n173            NaN      2.0  \n176            NaN      2.0  \n184            NaN      1.0  \n215            NaN      1.0  \n217            NaN      3.0  \n219            NaN      3.0  \n229            NaN      1.0  \n242            NaN      1.0  \n247            NaN      1.0  \n273            NaN      3.0  \n295            NaN      3.0  \n"
     ]
    }
   ],
   "source": [
    "my_func(horse_df, 'total protein')"
   ]
  },
  {
   "cell_type": "code",
   "execution_count": 13,
   "metadata": {},
   "outputs": [
    {
     "output_type": "stream",
     "name": "stdout",
     "text": [
      "          surgery    Age  rectal temperature       pulse     abdomen  \\\ncount  274.000000  275.0          219.000000  253.000000  177.000000   \nmean     1.408759    1.0           38.122831   67.462451    3.706215   \nstd      0.492504    0.0            0.737233   23.981217    1.478488   \nmin      1.000000    1.0           35.400000   30.000000    1.000000   \n25%      1.000000    1.0           37.700000   48.000000    2.000000   \n50%      1.000000    1.0           38.100000   60.000000    4.000000   \n75%      2.000000    1.0           38.500000   84.000000    5.000000   \nmax      2.000000    1.0           40.800000  140.000000    5.000000   \n\n       packed cell volume  total protein     outcome  \ncount          247.000000     244.000000  274.000000  \nmean            46.769231      25.507787    1.551095  \nstd             10.589024      27.952021    0.750542  \nmin             23.000000       4.000000    1.000000  \n25%             39.000000       6.600000    1.000000  \n50%             45.000000       7.500000    1.000000  \n75%             53.000000      58.250000    2.000000  \nmax             75.000000      89.000000    3.000000  \n        surgery  Age  rectal temperature  pulse  abdomen  packed cell volume  \\\nmedian      1.0  1.0                38.1   60.0      4.0                45.0   \n\n        total protein  outcome  \nmedian            7.5      1.0  \n   surgery  Age  rectal temperature  pulse  abdomen  packed cell volume  \\\n0      1.0    1                38.0   48.0      5.0                43.0   \n\n   total protein  outcome  \n0            7.0      1.0  \n     surgery  Age  rectal temperature  pulse  abdomen  packed cell volume  \\\n2        1.0    9                39.1  164.0      NaN                48.0   \n261      2.0    9                38.6   88.0      NaN                35.0   \n254      1.0    9                38.8  184.0      NaN                33.0   \n251      1.0    9                38.8  124.0      4.0                50.0   \n243      1.0    9                38.2  124.0      NaN                47.0   \n228      1.0    9                38.5  120.0      NaN                35.0   \n226      1.0    9                 NaN    NaN      NaN                45.0   \n211      1.0    9                38.9  120.0      NaN                47.0   \n190      2.0    9                 NaN  100.0      NaN                37.0   \n134      1.0    9                38.1  136.0      NaN                33.0   \n108      1.0    9                38.4   84.0      NaN                36.0   \n102      1.0    9                38.0  140.0      1.0                39.0   \n81       1.0    9                38.1  100.0      NaN                36.0   \n74       1.0    9                39.7  100.0      NaN                48.0   \n73       1.0    9                 NaN    NaN      NaN                37.0   \n54       1.0    9                38.6  160.0      NaN                38.0   \n40       2.0    9                39.0  150.0      NaN                47.0   \n38       1.0    9                39.2  146.0      NaN                 NaN   \n22       1.0    9                38.3  130.0      NaN                50.0   \n15       1.0    9                 NaN  128.0      5.0                53.0   \n12       2.0    9                38.0   92.0      1.0                37.0   \n8        2.0    9                38.3   90.0      NaN                40.0   \n274      1.0    9                38.8  150.0      NaN                50.0   \n286      2.0    9                39.5   84.0      NaN                28.0   \n\n     total protein  outcome  \n2              7.2      2.0  \n261            5.9      1.0  \n254            3.3      2.0  \n251            7.6      2.0  \n243            8.0      1.0  \n228           54.0      1.0  \n226            6.5      1.0  \n211            6.3      1.0  \n190            4.7      1.0  \n134            4.9      2.0  \n108            6.6      2.0  \n102            5.3      1.0  \n81             5.7      1.0  \n74            57.0      3.0  \n73             4.9      2.0  \n54             NaN      2.0  \n40             8.5      1.0  \n38             NaN      2.0  \n22            70.0      1.0  \n15             7.8      2.0  \n12             6.1      2.0  \n8              6.2      1.0  \n274            6.2      2.0  \n286            5.0      1.0  \n"
     ]
    }
   ],
   "source": [
    "my_func(horse_df, 'Age')"
   ]
  },
  {
   "cell_type": "code",
   "execution_count": null,
   "metadata": {},
   "outputs": [],
   "source": [
    "# Данные выбросы не льзя отбрасывать (кроме 'Age'), тк они все логически допустимы (естественные выбрасы). \n",
    "# Я конечно не медик и конечное заключение давать не могу.\n",
    "# 'Age' дискретная величина, и 9 не входит в диапазон "
   ]
  },
  {
   "cell_type": "code",
   "execution_count": 15,
   "metadata": {},
   "outputs": [
    {
     "output_type": "stream",
     "name": "stdout",
     "text": [
      "Количество пропусков\nsurgery - 0.0%\nAge - 0.0%\nrectal temperature - 0.0%\npulse - 0.0%\nabdomen - 0.0%\npacked cell volume - 0.0%\ntotal protein - 0.0%\noutcome - 0.0%\n<class 'pandas.core.frame.DataFrame'>\nInt64Index: 299 entries, 0 to 298\nData columns (total 8 columns):\n #   Column              Non-Null Count  Dtype  \n---  ------              --------------  -----  \n 0   surgery             299 non-null    float64\n 1   Age                 299 non-null    int64  \n 2   rectal temperature  299 non-null    float64\n 3   pulse               299 non-null    float64\n 4   abdomen             299 non-null    float64\n 5   packed cell volume  299 non-null    float64\n 6   total protein       299 non-null    float64\n 7   outcome             299 non-null    float64\ndtypes: float64(7), int64(1)\nmemory usage: 21.0 KB\nNone\n          surgery        Age  rectal temperature       pulse     abdomen  \\\ncount  299.000000  299.00000          299.000000  299.000000  299.000000   \nmean     1.397993    1.64214           38.154181   71.458194    3.645485   \nstd      0.490305    2.17730            0.712031   28.205039    1.535291   \nmin      1.000000    1.00000           35.400000   30.000000    1.000000   \n25%      1.000000    1.00000           37.800000   48.000000    2.000000   \n50%      1.000000    1.00000           38.200000   64.000000    4.000000   \n75%      2.000000    1.00000           38.500000   88.000000    5.000000   \nmax      2.000000    9.00000           40.800000  184.000000    5.000000   \n\n       packed cell volume  total protein     outcome  \ncount          299.000000     299.000000  299.000000  \nmean            46.280936      24.629431    1.548495  \nstd             10.357033      27.578970    0.737415  \nmin             23.000000       3.300000    1.000000  \n25%             38.000000       6.600000    1.000000  \n50%             45.000000       7.500000    1.000000  \n75%             51.500000      57.500000    2.000000  \nmax             75.000000      89.000000    3.000000  \n        surgery  Age  rectal temperature  pulse  abdomen  packed cell volume  \\\nmedian      1.0  1.0                38.2   64.0      4.0                45.0   \n\n        total protein  outcome  \nmedian            7.5      1.0  \n   surgery  Age  rectal temperature  pulse  abdomen  packed cell volume  \\\n0      1.0    1                38.0   48.0      5.0                37.0   \n\n   total protein  outcome  \n0            7.0      1.0  \n"
     ]
    }
   ],
   "source": [
    "# Задание 3\n",
    "print('Количество пропусков')\n",
    "for col in horse_df.columns:\n",
    "    pct_missing = horse_df[col].isnull().mean()\n",
    "    print(f'{col} - {pct_missing :.1%}')\n",
    "\n",
    "# больше всего пропусков в 'abdomen'\n",
    "\n",
    "print(horse_df.dropna().info())\n",
    "print(horse_df.dropna().describe())\n",
    "print(horse_df.dropna().agg(['median']))\n",
    "print(horse_df.dropna().mode())\n",
    "\n",
    "# При удалении строк с пропусками, объем данных уменьшился более чем в двое.\n",
    "# Уменьшился размах, уменьшилась медиана 'Age' на 4 единици, мода 'packed cell volume' увеличилась на 5\n",
    "# и 'total protein' уменшился на 0,95.\n",
    "# Больше всего пропусков в 'abdomen'\n"
   ]
  },
  {
   "cell_type": "code",
   "execution_count": 8,
   "metadata": {},
   "outputs": [
    {
     "output_type": "stream",
     "name": "stdout",
     "text": [
      "          surgery         Age  rectal temperature       pulse     abdomen  \\\ncount  298.000000  299.000000          299.000000  299.000000  299.000000   \nmean     1.395973    1.080268           38.158194   71.963211    3.658863   \nstd      0.489881    0.272162            0.661533   28.238711    1.420374   \nmin      1.000000    1.000000           35.400000   30.000000    1.000000   \n25%      1.000000    1.000000           37.850000   48.000000    2.000000   \n50%      1.000000    1.000000           38.200000   64.000000    4.000000   \n75%      2.000000    1.000000           38.500000   88.000000    5.000000   \nmax      2.000000    2.000000           40.800000  184.000000    5.000000   \n\n       packed cell volume  total protein     outcome  \ncount          299.000000     299.000000  298.000000  \nmean            46.438127      23.562542    1.550336  \nstd             10.087138      26.947181    0.737967  \nmin             23.000000       3.300000    1.000000  \n25%             39.000000       6.600000    1.000000  \n50%             45.000000       7.500000    1.000000  \n75%             52.000000      56.000000    2.000000  \nmax             75.000000      89.000000    3.000000  \n        surgery  Age  rectal temperature  pulse  abdomen  packed cell volume  \\\nmedian      1.0  1.0                38.2   64.0      4.0                45.0   \n\n        total protein  outcome  \nmedian            7.5      1.0  \n   surgery  Age  rectal temperature  pulse  abdomen  packed cell volume  \\\n0      1.0    1                38.0   60.0      5.0                43.0   \n\n   total protein  outcome  \n0            7.5      1.0  \n          surgery         Age  rectal temperature       pulse     abdomen  \\\ncount  298.000000  299.000000          299.000000  299.000000  299.000000   \nmean     1.395973    1.080268           38.158194   71.963211    3.658863   \nstd      0.489881    0.272162            0.661533   28.238711    1.420374   \nmin      1.000000    1.000000           35.400000   30.000000    1.000000   \n25%      1.000000    1.000000           37.850000   48.000000    2.000000   \n50%      1.000000    1.000000           38.200000   64.000000    4.000000   \n75%      2.000000    1.000000           38.500000   88.000000    5.000000   \nmax      2.000000    2.000000           40.800000  184.000000    5.000000   \n\n       packed cell volume  total protein     outcome  \ncount          299.000000     299.000000  298.000000  \nmean            46.438127      23.562542    1.550336  \nstd             10.087138      26.947181    0.737967  \nmin             23.000000       3.300000    1.000000  \n25%             39.000000       6.600000    1.000000  \n50%             45.000000       7.500000    1.000000  \n75%             52.000000      56.000000    2.000000  \nmax             75.000000      89.000000    3.000000  \n        surgery  Age  rectal temperature  pulse  abdomen  packed cell volume  \\\nmedian      1.0  1.0                38.2   64.0      4.0                45.0   \n\n        total protein  outcome  \nmedian            7.5      1.0  \n   surgery  Age  rectal temperature  pulse  abdomen  packed cell volume  \\\n0      1.0    1                38.0   60.0      5.0                43.0   \n\n   total protein  outcome  \n0            7.5      1.0  \n"
     ]
    }
   ],
   "source": [
    "print(horse_df.describe())\n",
    "print(horse_df.agg(['median']))\n",
    "print(horse_df.mode())\n",
    "\n",
    "# Предположим, что 9 это 2, тк значения 2 отсутствуют в Age\n",
    "horse_df.Age = horse_df.Age.replace(9, 2)\n",
    "\n",
    "params = ['rectal temperature', 'pulse', 'packed cell volume', 'total protein', 'abdomen']\n",
    "\n",
    "# Недастающие значения заменим на медианные групп\n",
    "for par in params:\n",
    "    horse_df[par].fillna(horse_df.groupby(['Age', 'surgery', 'outcome'])[par].transform('median'), inplace=True)\n",
    "\n",
    "# В 'abdomen' все еще не хватает данных, исправим\n",
    "horse_df['abdomen'].fillna(method='bfill',inplace=True)\n",
    "\n",
    "print(horse_df.describe())\n",
    "print(horse_df.agg(['median']))\n",
    "print(horse_df.mode())"
   ]
  },
  {
   "cell_type": "code",
   "execution_count": null,
   "metadata": {},
   "outputs": [],
   "source": []
  }
 ]
}