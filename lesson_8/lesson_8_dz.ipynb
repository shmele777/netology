{
 "metadata": {
  "language_info": {
   "codemirror_mode": {
    "name": "ipython",
    "version": 3
   },
   "file_extension": ".py",
   "mimetype": "text/x-python",
   "name": "python",
   "nbconvert_exporter": "python",
   "pygments_lexer": "ipython3",
   "version": "3.8.5-final"
  },
  "orig_nbformat": 2,
  "kernelspec": {
   "name": "python3",
   "display_name": "Python 3"
  }
 },
 "nbformat": 4,
 "nbformat_minor": 2,
 "cells": [
  {
   "cell_type": "code",
   "execution_count": 4,
   "metadata": {},
   "outputs": [
    {
     "output_type": "stream",
     "name": "stdout",
     "text": [
      "Номер A222BC валиден. Регион: 96\nНомер не валиден\n"
     ]
    }
   ],
   "source": [
    "# Задание 1\n",
    "import re\n",
    "\n",
    "\n",
    "def valid_grz(grz: str) -> str:\n",
    "    \"\"\"\n",
    "    Валидация номера государственного регистрационного знака.\n",
    "    Если номер валидный, то выводит номер и регион раздельно.\n",
    "    \n",
    "    Args:\n",
    "        grz(string): регистрационный знак\n",
    "\n",
    "    Returns(string): \n",
    "    \"\"\"\n",
    "\n",
    "    ret = re.findall(r'([АВЕКМНОРСТУХABEKMHOPCTY]{1}\\d{3}[АВЕКМНОРСТУХABEKMHOPCTY]{2})(\\d{2,3})', grz)\n",
    "    if ret:\n",
    "        return f'Номер {ret[0][0]} валиден. Регион: {ret[0][1]}'\n",
    "    return 'Номер не валиден'\n",
    "\n",
    "\n",
    "print(valid_grz('A222BC96'))\n",
    "print(valid_grz('АБ22ВВ193'))"
   ]
  },
  {
   "cell_type": "code",
   "execution_count": 5,
   "metadata": {},
   "outputs": [
    {
     "output_type": "execute_result",
     "data": {
      "text/plain": [
       "'Напишите функцию, которая будет удалять все последовательные повторы слов из заданной строки при помощи регулярных выражений.'"
      ]
     },
     "metadata": {},
     "execution_count": 5
    }
   ],
   "source": [
    "# Задание 2\n",
    "some_string = 'Напишите функцию функцию, которая будет Будет будет будет удалять все все все все последовательные повторы слов из из из из заданной строки строки при помощи регулярных выражений.'\n",
    "\n",
    "def del_repeat(txt: str) -> str:\n",
    "    \"\"\"\n",
    "    Удалять все последовательные повторы слов из заданной строки.\n",
    "    Args:\n",
    "        txt(string): редактируемая строка\n",
    "    Returns(string): отредактированная строка\n",
    "    \"\"\"\n",
    "    if type(txt) == str:\n",
    "        return re.sub(r'(\\w+)([\\s.,]\\1)+', r'\\1', txt, flags=re.I)\n",
    "    return 'Это не строка'\n",
    "\n",
    "\n",
    "del_repeat(some_string)"
   ]
  },
  {
   "cell_type": "code",
   "execution_count": 6,
   "metadata": {},
   "outputs": [
    {
     "output_type": "stream",
     "name": "stdout",
     "text": [
      "NFC\nИТ\n"
     ]
    }
   ],
   "source": [
    "#Задание 3\n",
    "some_string_0 = 'Near Field Communication'\n",
    "some_string_1 = 'Информационные технологии'\n",
    "\n",
    "def del_repeat(txt: str) -> str:\n",
    "    \"\"\"\n",
    "    Возвращает акроним по переданной в функцию строке со словами.\n",
    "\n",
    "    Args:\n",
    "        txt(string): редактируемая строка\n",
    "    Returns(string): акроним\n",
    "    \"\"\"\n",
    "    if type(txt) == str:\n",
    "        return re.sub(r'(\\w)(\\w)+\\s?', r'\\1', txt).upper()\n",
    "    return 'Это не строка'\n",
    "\n",
    "\n",
    "print(del_repeat(some_string_0))\n",
    "\n",
    "print(del_repeat(some_string_1))\n"
   ]
  },
  {
   "cell_type": "code",
   "execution_count": 8,
   "metadata": {},
   "outputs": [
    {
     "output_type": "execute_result",
     "data": {
      "text/plain": [
       "{'gmail.com': 2, 'test.in': 1, 'ya.ru': 2, 'mail.ru': 1}"
      ]
     },
     "metadata": {},
     "execution_count": 8
    }
   ],
   "source": [
    "# Задание 4\n",
    "emails = ['test@gmail.com', 'xyz@test.in', 'test@ya.ru', 'xyz@mail.ru', 'xyz@ya.ru', 'xyz@gmail.com']\n",
    "\n",
    "def parsing_email_list(emails: list) -> dict:\n",
    "    \"\"\"\n",
    "    Принимает на вход список email-адресов и выводить их распределение по доменным зонам\n",
    "\n",
    "    Args:\n",
    "        emails(list): список email-адресов\n",
    "    Returns(dict): распределение по доменным зонам\n",
    "    \"\"\"\n",
    "    domains = {}\n",
    "    for mail in emails:\n",
    "        domain = re.findall(r'@(\\w+\\.\\w+)', mail)\n",
    "        if domain[0] not in domains:\n",
    "            domains[domain[0]] = 1\n",
    "        else:\n",
    "            domains[domain[0]] += 1\n",
    "    return domains\n",
    "\n",
    "\n",
    "parsing_email_list(emails)"
   ]
  },
  {
   "cell_type": "code",
   "execution_count": 9,
   "metadata": {},
   "outputs": [
    {
     "output_type": "stream",
     "name": "stdout",
     "text": [
      "{'На гласную': 9, 'На согласную': 21}\n"
     ]
    }
   ],
   "source": [
    "#Задание 5\n",
    "some_text = 'Эталонной реализацией Python является интерпретатор CPython, поддерживающий большинство активно используемых платформ. Он распространяется под свободной лицензией Python Software Foundation License, позволяющей использовать его без ограничений в любых приложениях, включая проприетарные.'\n",
    "\n",
    "def pars_txt(txt: str) -> str:\n",
    "    \"\"\"\n",
    "    Подсчитывает сколько слов начинается на гласные, а сколько на согласные буквы в тексте\n",
    "\n",
    "    Args:\n",
    "        txt(string): текст для подсчета\n",
    "    Returns(string): распределение слов\n",
    "    \"\"\"\n",
    "    res = {}\n",
    "    res['На гласную'] = len(re.findall(r'(\\b[АИОУЫЭЕЁЮЯAEIOUY]\\w*)(?:[\\s,.?-])', txt, flags=re.I))\n",
    "    res['На согласную'] = len(re.findall(r'(\\b[БВГДЖЗЙКЛМНПРСТФХЦЧШЩBCDFGHJKLMNPQRSTVWXYZ]\\w*)(?:[\\s,.?-])', txt, flags=re.I))\n",
    "    return res\n",
    "\n",
    "print(pars_txt(some_text))"
   ]
  },
  {
   "cell_type": "code",
   "execution_count": 10,
   "metadata": {},
   "outputs": [
    {
     "output_type": "stream",
     "name": "stdout",
     "text": [
      "+7-955-555-55-55\n+7-955-555-55-55\n+7-955-555-55-55\n+7-955-555-55-55\nНомер не валиден\nНомер не валиден\n"
     ]
    }
   ],
   "source": [
    "# Задание 6\n",
    "phone = [\n",
    "    '+7 955 555-55-55',\n",
    "    '8(955)555-55-55',\n",
    "    '+7 955 555 55 55',\n",
    "    '7(955) 555-55-55',\n",
    "    '423-555-55-5555',\n",
    "    '123-456-789'\n",
    "]\n",
    "\n",
    "\n",
    "def pars_number(num: str) -> str:\n",
    "    \"\"\"\n",
    "    Проверяет номер сотового телефона на валидность (только для российского формата),\n",
    "    если он валиден, то переводить его в формат: +7-xxx-xxx-xx-xx\n",
    "\n",
    "    Args:\n",
    "        num(string): номер для проверки\n",
    "    Returns(string): результат\n",
    "    \"\"\"\n",
    "    res = re.sub(r'.+(\\d{3}).+(\\d{3}).(\\d{2}).(\\d{2})', r'+7-\\1-\\2-\\3-\\4', num)\n",
    "    if re.findall(r'\\+7-\\d{3}-\\d{3}-\\d{2}-\\d{2}', res):\n",
    "        return res\n",
    "    return 'Номер не валиден'\n",
    "\n",
    "for n in phone:\n",
    "    print(pars_number(n))"
   ]
  },
  {
   "cell_type": "code",
   "execution_count": null,
   "metadata": {},
   "outputs": [],
   "source": []
  }
 ]
}