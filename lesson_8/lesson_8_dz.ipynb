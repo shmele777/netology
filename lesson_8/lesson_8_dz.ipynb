{
 "metadata": {
  "language_info": {
   "codemirror_mode": {
    "name": "ipython",
    "version": 3
   },
   "file_extension": ".py",
   "mimetype": "text/x-python",
   "name": "python",
   "nbconvert_exporter": "python",
   "pygments_lexer": "ipython3",
   "version": "3.8.5-final"
  },
  "orig_nbformat": 2,
  "kernelspec": {
   "name": "python3",
   "display_name": "Python 3"
  }
 },
 "nbformat": 4,
 "nbformat_minor": 2,
 "cells": [
  {
   "cell_type": "code",
   "execution_count": 2,
   "metadata": {},
   "outputs": [
    {
     "output_type": "stream",
     "name": "stdout",
     "text": [
      "Номер A222BC валиден. Регион: 96\nНомер не валиден\n"
     ]
    }
   ],
   "source": [
    "# Задание 1\n",
    "import re\n",
    "\n",
    "\n",
    "def valid_grz(grz: str) -> str:\n",
    "    \"\"\"\n",
    "    Валидация номера государственного регистрационного знака.\n",
    "    Если номер валидный, то выводит номер и регион раздельно.\n",
    "    \n",
    "    Args:\n",
    "        grz(string): регистрационный знак\n",
    "\n",
    "    Returns(string): \n",
    "    \"\"\"\n",
    "\n",
    "    ret = re.findall(r'([АВЕКМНОРСТУХABEKMHOPCTY]{1}\\d{3}[АВЕКМНОРСТУХABEKMHOPCTY]{2})(\\d{2,3})', grz)\n",
    "    if ret:\n",
    "        return f'Номер {ret[0][0]} валиден. Регион: {ret[0][1]}'\n",
    "    return 'Номер не валиден'\n",
    "\n",
    "\n",
    "print(valid_grz('A222BC96'))\n",
    "print(valid_grz('АБ22ВВ193'))"
   ]
  },
  {
   "cell_type": "code",
   "execution_count": 13,
   "metadata": {},
   "outputs": [
    {
     "output_type": "execute_result",
     "data": {
      "text/plain": [
       "'Напишите функцию, которая будет удалять все последовательные повторы слов из заданной строки при помощи регулярных выражений.'"
      ]
     },
     "metadata": {},
     "execution_count": 13
    }
   ],
   "source": [
    "# Задание 2\n",
    "some_string = 'Напишите функцию функцию, которая будет Будет будет будет удалять все все все все последовательные повторы слов из из из из заданной строки строки при помощи регулярных выражений.'\n",
    "\n",
    "def del_repeat(txt: str) -> str:\n",
    "    \"\"\"\n",
    "    Удалять все последовательные повторы слов из заданной строки.\n",
    "    Args:\n",
    "        txt(string): редактируемая строка\n",
    "    Returns(string): отредактированная строка\n",
    "    \"\"\"\n",
    "    if type(txt) == str:\n",
    "        return re.sub(r'(\\w+)([\\s.,]\\1)+', r'\\1', txt, flags=re.I)\n",
    "    return 'Это не строка'\n",
    "\n",
    "\n",
    "del_repeat(some_string)"
   ]
  },
  {
   "cell_type": "code",
   "execution_count": 14,
   "metadata": {},
   "outputs": [
    {
     "output_type": "stream",
     "name": "stdout",
     "text": [
      "NFC\nИТ\n"
     ]
    }
   ],
   "source": [
    "#Задание 3\n",
    "some_string_0 = 'Near Field Communication'\n",
    "some_string_1 = 'Информационные технологии'\n",
    "\n",
    "def del_repeat(txt: str) -> str:\n",
    "    \"\"\"\n",
    "    Возвращает акроним по переданной в функцию строке со словами.\n",
    "\n",
    "    Args:\n",
    "        txt(string): редактируемая строка\n",
    "    Returns(string): акроним\n",
    "    \"\"\"\n",
    "    if type(txt) == str:\n",
    "        return re.sub(r'(\\w)(\\w)+\\s?', r'\\1', txt).upper()\n",
    "    return 'Это не строка'\n",
    "\n",
    "\n",
    "print(del_repeat(some_string_0))\n",
    "\n",
    "print(del_repeat(some_string_1))\n"
   ]
  },
  {
   "cell_type": "code",
   "execution_count": null,
   "metadata": {},
   "outputs": [],
   "source": []
  }
 ]
}