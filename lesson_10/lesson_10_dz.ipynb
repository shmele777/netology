{
 "metadata": {
  "language_info": {
   "codemirror_mode": {
    "name": "ipython",
    "version": 3
   },
   "file_extension": ".py",
   "mimetype": "text/x-python",
   "name": "python",
   "nbconvert_exporter": "python",
   "pygments_lexer": "ipython3",
   "version": "3.8.5-final"
  },
  "orig_nbformat": 2,
  "kernelspec": {
   "name": "python3",
   "display_name": "Python 3.8.5 64-bit",
   "metadata": {
    "interpreter": {
     "hash": "31f2aee4e71d21fbe5cf8b01ff0e069b9275f58929596ceb00d14d90e3e16cd6"
    }
   }
  }
 },
 "nbformat": 4,
 "nbformat_minor": 2,
 "cells": [
  {
   "cell_type": "code",
   "execution_count": 4,
   "metadata": {},
   "outputs": [
    {
     "output_type": "stream",
     "name": "stdout",
     "text": [
      "Фильм Toy Story (1995) получил больше всех оценок 5.0: 13506 \n"
     ]
    }
   ],
   "source": [
    "# Задание 1\n",
    "# http://files.grouplens.org/datasets/movielens/ml-25m.zip\n",
    "import pandas as pd\n",
    "df_movies = pd.read_csv('ml-25m/movies.csv')[['movieId', 'title']]\n",
    "df_ratings = pd.read_csv('ml-25m/ratings.csv')[['movieId', 'rating']]\n",
    "\n",
    "df_result = df_ratings[(df_ratings.rating == 5.0)].groupby('movieId').count().loc[0:1]\n",
    "df_result = df_result.merge(df_movies, on='movieId', how='left')\n",
    "print(f'Фильм {df_result.at[0, \"title\"]} получил больше всех оценок 5.0: {df_result.at[0, \"rating\"]} ')"
   ]
  },
  {
   "cell_type": "code",
   "execution_count": 23,
   "metadata": {},
   "outputs": [
    {
     "output_type": "stream",
     "name": "stdout",
     "text": [
      "Сумарное потребление стран Прибалтики: 164555.0\n"
     ]
    }
   ],
   "source": [
    "# Задание 2\n",
    "df_power = pd.read_csv('power.csv')\n",
    "df_power = df_power[(df_power['country'] == 'Latvia') | (df_power['country'] == 'Lithuania') | (df_power['country'] == 'Estonia')]\n",
    "df_power = df_power[(df_power['category'] == 4) | (df_power['category'] == 12) | (df_power['category'] == 21)]\n",
    "df_power = df_power[(df_power['year'] > 2005) & (df_power['year'] < 2010) & (df_power['quantity'] > 0)]\n",
    "result = df_power['quantity'].sum()\n",
    "print(f'Сумарное потребление стран Прибалтики: {result}')"
   ]
  },
  {
   "cell_type": "code",
   "execution_count": 3,
   "metadata": {},
   "outputs": [
    {
     "output_type": "stream",
     "name": "stdout",
     "text": [
      "[           Дата  Золото руб./грамм  Серебро руб./грамм  Платина руб./грамм  \\\n0    18.11.2020            4622.23               59.49             2270.17   \n1    17.11.2020            4680.45               59.96             2243.03   \n2    14.11.2020            4669.38               60.20             2212.62   \n3    13.11.2020            4631.33               60.02             2164.43   \n4    12.11.2020            4596.93               59.28             2173.26   \n..          ...                ...                 ...                 ...   \n125  23.05.2020            4003.70               39.29             1915.82   \n126  22.05.2020            3951.23               39.23             1922.26   \n127  21.05.2020            4070.13               40.63             1976.86   \n128  20.05.2020            4038.71               39.85             1875.92   \n129  19.05.2020            4122.31               40.71             1914.62   \n\n     Палладий руб./грамм  \n0                5712.20  \n1                5799.24  \n2                5842.32  \n3                5838.74  \n4                6039.56  \n..                   ...  \n125              4575.79  \n126              4647.17  \n127              4809.59  \n128              4633.95  \n129              4505.00  \n\n[130 rows x 5 columns]]\n"
     ]
    }
   ],
   "source": [
    "# Задание 3\n",
    "page_url = 'http://mfd.ru/centrobank/preciousmetals/'\n",
    "\n",
    "df = pd.read_html(page_url, attrs = {'class': 'mfd-table'}, encoding='utf-8')\n",
    "print(df)"
   ]
  },
  {
   "cell_type": "code",
   "execution_count": null,
   "metadata": {},
   "outputs": [],
   "source": []
  }
 ]
}