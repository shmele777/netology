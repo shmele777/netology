{
 "metadata": {
  "language_info": {
   "codemirror_mode": {
    "name": "ipython",
    "version": 3
   },
   "file_extension": ".py",
   "mimetype": "text/x-python",
   "name": "python",
   "nbconvert_exporter": "python",
   "pygments_lexer": "ipython3",
   "version": "3.8.5-final"
  },
  "orig_nbformat": 2,
  "kernelspec": {
   "name": "python3",
   "display_name": "Python 3"
  }
 },
 "nbformat": 4,
 "nbformat_minor": 2,
 "cells": [
  {
   "cell_type": "code",
   "execution_count": 1,
   "metadata": {},
   "outputs": [
    {
     "output_type": "execute_result",
     "data": {
      "text/plain": [
       "'СДР (специальные права заимствования)'"
      ]
     },
     "metadata": {},
     "execution_count": 1
    }
   ],
   "source": [
    "# Заданиие 1\n",
    "import requests\n",
    "import operator\n",
    "\n",
    "\n",
    "def max_course():\n",
    "    \"\"\" \n",
    "    Запрашивает на cbr-xml-daily.ru курс валюты, и выводит название\n",
    "    валюты с максимальным курсом\n",
    "    \"\"\"\n",
    "\n",
    "    url = \"https://www.cbr-xml-daily.ru/daily_json.js\"\n",
    "\n",
    "    with requests.get(url) as req:\n",
    "        respons = req.json()['Valute']\n",
    "\n",
    "        course_valute = {}\n",
    "        for val in respons:\n",
    "            course_valute[val] = respons[val]['Value']\n",
    "        return respons[max(course_valute, key=course_valute.get)]['Name']\n",
    "\n",
    "\n",
    "max_course()"
   ]
  },
  {
   "cell_type": "code",
   "execution_count": null,
   "metadata": {},
   "outputs": [],
   "source": []
  }
 ]
}