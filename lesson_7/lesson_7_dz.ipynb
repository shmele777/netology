{
 "metadata": {
  "language_info": {
   "codemirror_mode": {
    "name": "ipython",
    "version": 3
   },
   "file_extension": ".py",
   "mimetype": "text/x-python",
   "name": "python",
   "nbconvert_exporter": "python",
   "pygments_lexer": "ipython3",
   "version": "3.8.5-final"
  },
  "orig_nbformat": 2,
  "kernelspec": {
   "name": "python3",
   "display_name": "Python 3"
  }
 },
 "nbformat": 4,
 "nbformat_minor": 2,
 "cells": [
  {
   "cell_type": "code",
   "execution_count": 1,
   "metadata": {},
   "outputs": [
    {
     "output_type": "execute_result",
     "data": {
      "text/plain": [
       "'СДР (специальные права заимствования)'"
      ]
     },
     "metadata": {},
     "execution_count": 1
    }
   ],
   "source": [
    "# Заданиие 1\n",
    "import requests\n",
    "import operator\n",
    "\n",
    "\n",
    "def max_course():\n",
    "    \"\"\" \n",
    "    Запрашивает на cbr-xml-daily.ru курс валюты, и выводит название\n",
    "    валюты с максимальным курсом\n",
    "    \"\"\"\n",
    "\n",
    "    url = \"https://www.cbr-xml-daily.ru/daily_json.js\"\n",
    "\n",
    "    with requests.get(url) as req:\n",
    "        respons = req.json()['Valute']\n",
    "\n",
    "        course_valute = {}\n",
    "        for val in respons:\n",
    "            course_valute[val] = respons[val]['Value']\n",
    "        return respons[max(course_valute, key=course_valute.get)]['Name']\n",
    "\n",
    "\n",
    "max_course()"
   ]
  },
  {
   "cell_type": "code",
   "execution_count": 9,
   "metadata": {},
   "outputs": [
    {
     "output_type": "execute_result",
     "data": {
      "text/plain": [
       "'-1.222'"
      ]
     },
     "metadata": {},
     "execution_count": 9
    }
   ],
   "source": [
    "# Задание 2\n",
    "from exchange import Rate\n",
    "\n",
    "class RateMy(Rate):\n",
    "    def __init__(self):\n",
    "        super().__init__()\n",
    "\n",
    "        self.diff = False\n",
    "    \n",
    "\n",
    "    def make_format(self, currency):\n",
    "        \"\"\"\n",
    "        Возвращает информацию о валюте currency в двух вариантах:\n",
    "        - полная информация о валюте при self.format = 'full':\n",
    "        Rate('full').make_format('EUR')\n",
    "        {\n",
    "            'CharCode': 'EUR',\n",
    "            'ID': 'R01239',\n",
    "            'Name': 'Евро',\n",
    "            'Nominal': 1,\n",
    "            'NumCode': '978',\n",
    "            'Previous': 79.6765,\n",
    "            'Value': 79.4966\n",
    "        }\n",
    "        \n",
    "        Rate('value').make_format('EUR')\n",
    "        79.4966\n",
    "        \"\"\"\n",
    "        response = self.exchange_rates()\n",
    "        \n",
    "        if currency in response:\n",
    "            if self.format == 'full':\n",
    "                return response[currency]\n",
    "            \n",
    "            if self.format == 'value':\n",
    "                if self.diff:\n",
    "                    return f\"{(response[currency]['Value'] - response[currency]['Previous']):0.4}\"\n",
    "                return response[currency]['Value']\n",
    "        \n",
    "        return 'Error'\n",
    "        \n",
    "\n",
    "r = RateMy()\n",
    "# r.format = 'full'\n",
    "r.diff = True\n",
    "r.eur()"
   ]
  },
  {
   "cell_type": "code",
   "execution_count": 8,
   "metadata": {},
   "outputs": [
    {
     "output_type": "stream",
     "name": "stdout",
     "text": [
      "Александр 1\nАлександр 1\nАлександр 2\nАлександр 2\nАлександр 2\nАлександр 3\nАлександр 3\nАлександр 3\nАлександр 3\nАлександр 4\nАлександр 4\nАлександр 4\nАлександр 5\nАлександр 5\nАлександр 5\nАлександр 5\nАлександр 6\nАлександр 6\nАлександр 6\nАлександр 7\n"
     ]
    }
   ],
   "source": [
    "# Задание 3\n",
    "from exchange import Employee\n",
    "\n",
    "class Designer(Employee):\n",
    "    def __init__(self, name, seniority):\n",
    "        super().__init__(name, seniority)\n",
    "        self.world_premium = 2\n",
    "    \n",
    "    def check_if_it_is_time_for_upgrade(self):\n",
    "        # для каждой аккредитации увеличиваем счетчик на 1\n",
    "        # пока считаем, что все разработчики проходят аккредитацию\n",
    "        self.seniority += 1\n",
    "        \n",
    "        # условие повышения сотрудника из презентации\n",
    "        if (self.world_premium * 2) // 7 == self.grade:\n",
    "            self.grade_up()\n",
    "        \n",
    "        # публикация результатов\n",
    "        return self.publish_grade()\n",
    "    \n",
    "    def world_premium_up(self):\n",
    "        \"\"\"Получение международной премии\"\"\"\n",
    "        self.world_premium += 1\n",
    "\n",
    "\n",
    "alex = Designer('Александр', 0)\n",
    "\n",
    "for i in range(20):\n",
    "    alex.check_if_it_is_time_for_upgrade()\n",
    "    alex.world_premium_up()"
   ]
  },
  {
   "cell_type": "code",
   "execution_count": null,
   "metadata": {},
   "outputs": [],
   "source": []
  }
 ]
}