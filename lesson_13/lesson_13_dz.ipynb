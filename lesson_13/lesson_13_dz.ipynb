{
 "metadata": {
  "language_info": {
   "codemirror_mode": {
    "name": "ipython",
    "version": 3
   },
   "file_extension": ".py",
   "mimetype": "text/x-python",
   "name": "python",
   "nbconvert_exporter": "python",
   "pygments_lexer": "ipython3",
   "version": 3
  },
  "orig_nbformat": 2
 },
 "nbformat": 4,
 "nbformat_minor": 2,
 "cells": [
  {
   "cell_type": "code",
   "execution_count": null,
   "metadata": {},
   "outputs": [],
   "source": [
    "import pandas as pd"
   ]
  },
  {
   "cell_type": "code",
   "execution_count": null,
   "metadata": {},
   "outputs": [],
   "source": [
    "\n",
    "# Задание 1\n",
    "ratings_df = pd.read_csv('lesson_13/ml-latest-small/ratings.csv')[['userId', 'timestamp']]\n",
    "users_100 = (ratings_df.groupby('userId').count() > 100)\n",
    "users_100 = users_100[users_100['timestamp'] == True]['timestamp'].to_dict()\n",
    "\n",
    "timesum = 0\n",
    "for user in users_100:\n",
    "    user_max, user_min = ratings_df[ratings_df.userId == user]['timestamp'].agg(['max','min'])\n",
    "    timesum += user_max - user_min\n",
    "\n",
    "\n",
    "print('Среднее время жизни пользователей:', timesum/len(users_100))"
   ]
  },
  {
   "cell_type": "code",
   "execution_count": null,
   "metadata": {},
   "outputs": [],
   "source": [
    "# Задание 2\n",
    "rzd = pd.DataFrame(\n",
    "    {\n",
    "        'client_id': [111, 112, 113, 114, 115],\n",
    "        'rzd_revenue': [1093, 2810, 10283, 5774, 981]\n",
    "    }\n",
    ")\n",
    "\n",
    "auto = pd.DataFrame(\n",
    "    {\n",
    "        'client_id': [113, 114, 115, 116, 117],\n",
    "        'auto_revenue': [57483, 83, 912, 4834, 98]\n",
    "    }\n",
    ")\n",
    "\n",
    "air = pd.DataFrame(\n",
    "    {\n",
    "        'client_id': [115, 116, 117, 118],\n",
    "        'air_revenue': [81, 4, 13, 173]\n",
    "    }\n",
    ")\n",
    "\n",
    "client_base = pd.DataFrame(\n",
    "    {\n",
    "        'client_id': [111, 112, 113, 114, 115, 116, 117, 118],\n",
    "        'address': ['Комсомольская 4', 'Энтузиастов 8а', 'Левобережная 1а', 'Мира 14', 'ЗЖБИиДК 1', \n",
    "                    'Строителей 18', 'Панфиловская 33', 'Мастеркова 4']\n",
    "    }\n",
    ")\n",
    "\n",
    "table_2 = client_base.set_index('client_id').join(\n",
    "    [rzd.set_index('client_id'), air.set_index('client_id'), auto.set_index('client_id')],\n",
    "    rsuffix='_r')\n",
    "\n",
    "table_1 = table_2[['rzd_revenue', 'auto_revenue','air_revenue']]\n",
    "print(table_1)\n",
    "print(table_2)"
   ]
  },
  {
   "cell_type": "code",
   "execution_count": null,
   "metadata": {},
   "outputs": [],
   "source": [
    "# Задание 3\n",
    "Необходимо создать отдельную таблицу: index, user_id, gps_n, gps_e. А в таблице визитов и покупок добавить поля id_gps(указатель на index созданной ранее созданной таблицы) и pay(идентификатор покупки).\n",
    "\n",
    "При наличии координат визита/покупки пользователя, если речь о онлайн, то ты можем определить место расположение пользователя, можно определить где пользователь больше любит совершать покупки (дом, офис, в транспорте), предположительно язык на котором пользователь разговаривает, предположительно где у пользователя работа и где дом (зависит от количества данных)."
   ]
  }
 ]
}