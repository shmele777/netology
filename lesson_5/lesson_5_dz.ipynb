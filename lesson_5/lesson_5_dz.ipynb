{
 "metadata": {
  "language_info": {
   "codemirror_mode": {
    "name": "ipython",
    "version": 3
   },
   "file_extension": ".py",
   "mimetype": "text/x-python",
   "name": "python",
   "nbconvert_exporter": "python",
   "pygments_lexer": "ipython3",
   "version": "3.8.5-final"
  },
  "orig_nbformat": 2,
  "kernelspec": {
   "name": "python3",
   "display_name": "Python 3"
  }
 },
 "nbformat": 4,
 "nbformat_minor": 2,
 "cells": [
  {
   "cell_type": "code",
   "execution_count": 3,
   "metadata": {},
   "outputs": [
    {
     "output_type": "stream",
     "name": "stdout",
     "text": [
      "{'1840e0b9d4': 'Продукты', '4e4f90fcfb': 'Электроника', 'afea8d72fc': 'Электроника', '373a6055fe': 'Бытовая техника', '9b2ab046f3': 'Электроника'}\n"
     ]
    }
   ],
   "source": [
    "# Задание 1\n",
    "import json\n",
    "\n",
    "purchases = {}\n",
    "\n",
    "with open('purchase_log.txt', 'r') as f:\n",
    "    f.readline()\n",
    "    for line in f:\n",
    "        temp = json.loads(line)\n",
    "        purchases[temp['user_id']] = temp['category']\n",
    "\n",
    "\n",
    "print({vol:purchases[vol] for i, vol in enumerate(purchases) if i < 5})"
   ]
  },
  {
   "cell_type": "code",
   "execution_count": 10,
   "metadata": {},
   "outputs": [],
   "source": [
    "# Задание 2\n",
    "import json\n",
    "\n",
    "with open('purchase_log.txt', 'r') as file_purchase:\n",
    "    purchase_dict = {}\n",
    "    for line in file_purchase.readlines():\n",
    "        temp = json.loads(line)\n",
    "        purchase_dict[temp['user_id']] = temp['category']\n",
    "\n",
    "    with open('visit_log.csv', 'r') as file_visit:\n",
    "        with open('funnel.csv', 'w') as file_funnel:\n",
    "            for line in file_visit:\n",
    "                temp = line.strip().split(',')\n",
    "                if temp[0] in purchase_dict:\n",
    "                        file_funnel.write(f'{temp[0]},{temp[1]},{purchase_dict[temp[0]]}\\n')\n"
   ]
  },
  {
   "cell_type": "code",
   "execution_count": null,
   "metadata": {},
   "outputs": [],
   "source": []
  }
 ]
}